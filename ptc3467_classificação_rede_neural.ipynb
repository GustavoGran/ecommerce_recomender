{
  "nbformat": 4,
  "nbformat_minor": 0,
  "metadata": {
    "colab": {
      "name": "ptc3467_classificação_rede_neural.ipynb",
      "provenance": [],
      "collapsed_sections": [],
      "include_colab_link": true
    },
    "kernelspec": {
      "name": "python3",
      "display_name": "Python 3"
    }
  },
  "cells": [
    {
      "cell_type": "markdown",
      "metadata": {
        "id": "view-in-github",
        "colab_type": "text"
      },
      "source": [
        "<a href=\"https://colab.research.google.com/github/GustavoGran/ecommerce_recomender/blob/main/ptc3467_classifica%C3%A7%C3%A3o_rede_neural.ipynb\" target=\"_parent\"><img src=\"https://colab.research.google.com/assets/colab-badge.svg\" alt=\"Open In Colab\"/></a>"
      ]
    },
    {
      "cell_type": "markdown",
      "metadata": {
        "id": "IbrFqgMvGKlw"
      },
      "source": [
        "# **Análise Exploratória de Dados - Dados de E-commerce Brasileiro**"
      ]
    },
    {
      "cell_type": "markdown",
      "metadata": {
        "id": "2JB1_4-KGM1L"
      },
      "source": [
        "##**Importando Bibliotecas**"
      ]
    },
    {
      "cell_type": "code",
      "metadata": {
        "id": "CbqThd6xFoF4"
      },
      "source": [
        "import pandas as pd\n",
        "import numpy  as np\n",
        "from scipy import stats \n",
        "import matplotlib.pyplot as plt\n",
        "import seaborn as sns\n",
        "import tensorflow as tf\n",
        "from tensorflow import keras\n",
        "from tensorflow.keras import layers"
      ],
      "execution_count": null,
      "outputs": []
    },
    {
      "cell_type": "code",
      "metadata": {
        "colab": {
          "base_uri": "https://localhost:8080/"
        },
        "id": "1MFxVGcjGTrG",
        "outputId": "cb65151e-2a27-4d9d-f753-0884f7e471a6"
      },
      "source": [
        "from google.colab import drive\n",
        "drive.mount('/content/drive')\n",
        "%cd \"/content/drive/Shared drives/Projeto Ciência de Dados/dataset/treated_olist_ecommerce\" "
      ],
      "execution_count": null,
      "outputs": [
        {
          "output_type": "stream",
          "text": [
            "Drive already mounted at /content/drive; to attempt to forcibly remount, call drive.mount(\"/content/drive\", force_remount=True).\n",
            "/content/drive/Shared drives/Projeto Ciência de Dados/dataset/treated_olist_ecommerce\n"
          ],
          "name": "stdout"
        }
      ]
    },
    {
      "cell_type": "code",
      "metadata": {
        "colab": {
          "base_uri": "https://localhost:8080/"
        },
        "id": "qFq0AQluGmff",
        "outputId": "501bcfe9-3a08-4cbd-ee8d-e8d65c819a00"
      },
      "source": [
        "%ls"
      ],
      "execution_count": null,
      "outputs": [
        {
          "output_type": "stream",
          "text": [
            "\u001b[0m\u001b[01;34mclassification_2020_11_25_10\u001b[0m/  ConfusionMatrix.png  olist_consolidated.csv\n"
          ],
          "name": "stdout"
        }
      ]
    },
    {
      "cell_type": "markdown",
      "metadata": {
        "id": "I-2PFVxgGu9J"
      },
      "source": [
        "##**Leitura do dataset**"
      ]
    },
    {
      "cell_type": "code",
      "metadata": {
        "colab": {
          "base_uri": "https://localhost:8080/"
        },
        "id": "TM1b3UIQGtMe",
        "outputId": "f99939ba-5b22-4ec2-a2a7-6673a7620906"
      },
      "source": [
        "df = pd.read_csv('olist_consolidated.csv').drop(['Unnamed: 0'],axis=1);\n",
        "df.shape"
      ],
      "execution_count": null,
      "outputs": [
        {
          "output_type": "execute_result",
          "data": {
            "text/plain": [
              "(109535, 12)"
            ]
          },
          "metadata": {
            "tags": []
          },
          "execution_count": 60
        }
      ]
    },
    {
      "cell_type": "code",
      "metadata": {
        "colab": {
          "base_uri": "https://localhost:8080/",
          "height": 417
        },
        "id": "7FsnPJYCHZyi",
        "outputId": "b7756806-7d96-471b-b4ff-faf50f3fc70f"
      },
      "source": [
        "df.describe().transpose()"
      ],
      "execution_count": null,
      "outputs": [
        {
          "output_type": "execute_result",
          "data": {
            "text/html": [
              "<div>\n",
              "<style scoped>\n",
              "    .dataframe tbody tr th:only-of-type {\n",
              "        vertical-align: middle;\n",
              "    }\n",
              "\n",
              "    .dataframe tbody tr th {\n",
              "        vertical-align: top;\n",
              "    }\n",
              "\n",
              "    .dataframe thead th {\n",
              "        text-align: right;\n",
              "    }\n",
              "</style>\n",
              "<table border=\"1\" class=\"dataframe\">\n",
              "  <thead>\n",
              "    <tr style=\"text-align: right;\">\n",
              "      <th></th>\n",
              "      <th>count</th>\n",
              "      <th>mean</th>\n",
              "      <th>std</th>\n",
              "      <th>min</th>\n",
              "      <th>25%</th>\n",
              "      <th>50%</th>\n",
              "      <th>75%</th>\n",
              "      <th>max</th>\n",
              "    </tr>\n",
              "  </thead>\n",
              "  <tbody>\n",
              "    <tr>\n",
              "      <th>estimated_delivery_days</th>\n",
              "      <td>109535.0</td>\n",
              "      <td>24.457854</td>\n",
              "      <td>8.838442</td>\n",
              "      <td>3.000000</td>\n",
              "      <td>19.000000</td>\n",
              "      <td>24.000000</td>\n",
              "      <td>29.000000</td>\n",
              "      <td>156.000000</td>\n",
              "    </tr>\n",
              "    <tr>\n",
              "      <th>price_log</th>\n",
              "      <td>109535.0</td>\n",
              "      <td>4.317444</td>\n",
              "      <td>0.922087</td>\n",
              "      <td>-0.150823</td>\n",
              "      <td>3.686627</td>\n",
              "      <td>4.316287</td>\n",
              "      <td>4.904608</td>\n",
              "      <td>8.815075</td>\n",
              "    </tr>\n",
              "    <tr>\n",
              "      <th>freight_value_log</th>\n",
              "      <td>109535.0</td>\n",
              "      <td>2.810926</td>\n",
              "      <td>0.698249</td>\n",
              "      <td>-4.605170</td>\n",
              "      <td>2.571849</td>\n",
              "      <td>2.791165</td>\n",
              "      <td>3.053529</td>\n",
              "      <td>6.015401</td>\n",
              "    </tr>\n",
              "    <tr>\n",
              "      <th>product_name_lenght</th>\n",
              "      <td>109535.0</td>\n",
              "      <td>48.799598</td>\n",
              "      <td>10.011535</td>\n",
              "      <td>5.000000</td>\n",
              "      <td>42.000000</td>\n",
              "      <td>52.000000</td>\n",
              "      <td>57.000000</td>\n",
              "      <td>76.000000</td>\n",
              "    </tr>\n",
              "    <tr>\n",
              "      <th>product_description_lenght</th>\n",
              "      <td>109535.0</td>\n",
              "      <td>786.972630</td>\n",
              "      <td>652.298760</td>\n",
              "      <td>4.000000</td>\n",
              "      <td>347.000000</td>\n",
              "      <td>601.000000</td>\n",
              "      <td>985.000000</td>\n",
              "      <td>3992.000000</td>\n",
              "    </tr>\n",
              "    <tr>\n",
              "      <th>product_photos_qty</th>\n",
              "      <td>109535.0</td>\n",
              "      <td>2.203177</td>\n",
              "      <td>1.714753</td>\n",
              "      <td>1.000000</td>\n",
              "      <td>1.000000</td>\n",
              "      <td>1.000000</td>\n",
              "      <td>3.000000</td>\n",
              "      <td>20.000000</td>\n",
              "    </tr>\n",
              "    <tr>\n",
              "      <th>product_weight_g</th>\n",
              "      <td>109535.0</td>\n",
              "      <td>2096.390241</td>\n",
              "      <td>3740.711084</td>\n",
              "      <td>0.000000</td>\n",
              "      <td>300.000000</td>\n",
              "      <td>700.000000</td>\n",
              "      <td>1800.000000</td>\n",
              "      <td>40425.000000</td>\n",
              "    </tr>\n",
              "    <tr>\n",
              "      <th>product_length_cm</th>\n",
              "      <td>109535.0</td>\n",
              "      <td>30.216360</td>\n",
              "      <td>16.160274</td>\n",
              "      <td>7.000000</td>\n",
              "      <td>18.000000</td>\n",
              "      <td>25.000000</td>\n",
              "      <td>38.000000</td>\n",
              "      <td>105.000000</td>\n",
              "    </tr>\n",
              "    <tr>\n",
              "      <th>product_height_cm</th>\n",
              "      <td>109535.0</td>\n",
              "      <td>16.611960</td>\n",
              "      <td>13.447127</td>\n",
              "      <td>2.000000</td>\n",
              "      <td>8.000000</td>\n",
              "      <td>13.000000</td>\n",
              "      <td>20.000000</td>\n",
              "      <td>105.000000</td>\n",
              "    </tr>\n",
              "    <tr>\n",
              "      <th>product_width_cm</th>\n",
              "      <td>109535.0</td>\n",
              "      <td>23.042050</td>\n",
              "      <td>11.681227</td>\n",
              "      <td>6.000000</td>\n",
              "      <td>15.000000</td>\n",
              "      <td>20.000000</td>\n",
              "      <td>30.000000</td>\n",
              "      <td>118.000000</td>\n",
              "    </tr>\n",
              "    <tr>\n",
              "      <th>review_score</th>\n",
              "      <td>109535.0</td>\n",
              "      <td>4.067522</td>\n",
              "      <td>1.357724</td>\n",
              "      <td>1.000000</td>\n",
              "      <td>4.000000</td>\n",
              "      <td>5.000000</td>\n",
              "      <td>5.000000</td>\n",
              "      <td>5.000000</td>\n",
              "    </tr>\n",
              "    <tr>\n",
              "      <th>freight_distance</th>\n",
              "      <td>109535.0</td>\n",
              "      <td>5.547001</td>\n",
              "      <td>5.357181</td>\n",
              "      <td>0.000000</td>\n",
              "      <td>1.760258</td>\n",
              "      <td>4.080884</td>\n",
              "      <td>7.389524</td>\n",
              "      <td>79.600874</td>\n",
              "    </tr>\n",
              "  </tbody>\n",
              "</table>\n",
              "</div>"
            ],
            "text/plain": [
              "                               count         mean  ...          75%           max\n",
              "estimated_delivery_days     109535.0    24.457854  ...    29.000000    156.000000\n",
              "price_log                   109535.0     4.317444  ...     4.904608      8.815075\n",
              "freight_value_log           109535.0     2.810926  ...     3.053529      6.015401\n",
              "product_name_lenght         109535.0    48.799598  ...    57.000000     76.000000\n",
              "product_description_lenght  109535.0   786.972630  ...   985.000000   3992.000000\n",
              "product_photos_qty          109535.0     2.203177  ...     3.000000     20.000000\n",
              "product_weight_g            109535.0  2096.390241  ...  1800.000000  40425.000000\n",
              "product_length_cm           109535.0    30.216360  ...    38.000000    105.000000\n",
              "product_height_cm           109535.0    16.611960  ...    20.000000    105.000000\n",
              "product_width_cm            109535.0    23.042050  ...    30.000000    118.000000\n",
              "review_score                109535.0     4.067522  ...     5.000000      5.000000\n",
              "freight_distance            109535.0     5.547001  ...     7.389524     79.600874\n",
              "\n",
              "[12 rows x 8 columns]"
            ]
          },
          "metadata": {
            "tags": []
          },
          "execution_count": 61
        }
      ]
    },
    {
      "cell_type": "code",
      "metadata": {
        "colab": {
          "base_uri": "https://localhost:8080/",
          "height": 417
        },
        "id": "lXMrV8fLH5Nq",
        "outputId": "d268a285-8241-4720-e4c8-58263fc75b07"
      },
      "source": [
        "df.head(3).transpose()"
      ],
      "execution_count": null,
      "outputs": [
        {
          "output_type": "execute_result",
          "data": {
            "text/html": [
              "<div>\n",
              "<style scoped>\n",
              "    .dataframe tbody tr th:only-of-type {\n",
              "        vertical-align: middle;\n",
              "    }\n",
              "\n",
              "    .dataframe tbody tr th {\n",
              "        vertical-align: top;\n",
              "    }\n",
              "\n",
              "    .dataframe thead th {\n",
              "        text-align: right;\n",
              "    }\n",
              "</style>\n",
              "<table border=\"1\" class=\"dataframe\">\n",
              "  <thead>\n",
              "    <tr style=\"text-align: right;\">\n",
              "      <th></th>\n",
              "      <th>0</th>\n",
              "      <th>1</th>\n",
              "      <th>2</th>\n",
              "    </tr>\n",
              "  </thead>\n",
              "  <tbody>\n",
              "    <tr>\n",
              "      <th>estimated_delivery_days</th>\n",
              "      <td>16.000000</td>\n",
              "      <td>20.000000</td>\n",
              "      <td>27.000000</td>\n",
              "    </tr>\n",
              "    <tr>\n",
              "      <th>price_log</th>\n",
              "      <td>3.401197</td>\n",
              "      <td>4.776684</td>\n",
              "      <td>5.074611</td>\n",
              "    </tr>\n",
              "    <tr>\n",
              "      <th>freight_value_log</th>\n",
              "      <td>2.166765</td>\n",
              "      <td>3.125444</td>\n",
              "      <td>2.956472</td>\n",
              "    </tr>\n",
              "    <tr>\n",
              "      <th>product_name_lenght</th>\n",
              "      <td>40.000000</td>\n",
              "      <td>29.000000</td>\n",
              "      <td>46.000000</td>\n",
              "    </tr>\n",
              "    <tr>\n",
              "      <th>product_description_lenght</th>\n",
              "      <td>268.000000</td>\n",
              "      <td>178.000000</td>\n",
              "      <td>232.000000</td>\n",
              "    </tr>\n",
              "    <tr>\n",
              "      <th>product_photos_qty</th>\n",
              "      <td>4.000000</td>\n",
              "      <td>1.000000</td>\n",
              "      <td>1.000000</td>\n",
              "    </tr>\n",
              "    <tr>\n",
              "      <th>product_weight_g</th>\n",
              "      <td>500.000000</td>\n",
              "      <td>400.000000</td>\n",
              "      <td>420.000000</td>\n",
              "    </tr>\n",
              "    <tr>\n",
              "      <th>product_length_cm</th>\n",
              "      <td>19.000000</td>\n",
              "      <td>19.000000</td>\n",
              "      <td>24.000000</td>\n",
              "    </tr>\n",
              "    <tr>\n",
              "      <th>product_height_cm</th>\n",
              "      <td>8.000000</td>\n",
              "      <td>13.000000</td>\n",
              "      <td>19.000000</td>\n",
              "    </tr>\n",
              "    <tr>\n",
              "      <th>product_width_cm</th>\n",
              "      <td>13.000000</td>\n",
              "      <td>19.000000</td>\n",
              "      <td>21.000000</td>\n",
              "    </tr>\n",
              "    <tr>\n",
              "      <th>review_score</th>\n",
              "      <td>4.000000</td>\n",
              "      <td>4.000000</td>\n",
              "      <td>5.000000</td>\n",
              "    </tr>\n",
              "    <tr>\n",
              "      <th>freight_distance</th>\n",
              "      <td>0.176608</td>\n",
              "      <td>7.660024</td>\n",
              "      <td>4.627149</td>\n",
              "    </tr>\n",
              "  </tbody>\n",
              "</table>\n",
              "</div>"
            ],
            "text/plain": [
              "                                     0           1           2\n",
              "estimated_delivery_days      16.000000   20.000000   27.000000\n",
              "price_log                     3.401197    4.776684    5.074611\n",
              "freight_value_log             2.166765    3.125444    2.956472\n",
              "product_name_lenght          40.000000   29.000000   46.000000\n",
              "product_description_lenght  268.000000  178.000000  232.000000\n",
              "product_photos_qty            4.000000    1.000000    1.000000\n",
              "product_weight_g            500.000000  400.000000  420.000000\n",
              "product_length_cm            19.000000   19.000000   24.000000\n",
              "product_height_cm             8.000000   13.000000   19.000000\n",
              "product_width_cm             13.000000   19.000000   21.000000\n",
              "review_score                  4.000000    4.000000    5.000000\n",
              "freight_distance              0.176608    7.660024    4.627149"
            ]
          },
          "metadata": {
            "tags": []
          },
          "execution_count": 62
        }
      ]
    },
    {
      "cell_type": "code",
      "metadata": {
        "colab": {
          "base_uri": "https://localhost:8080/"
        },
        "id": "KTqSw2cbH-OG",
        "outputId": "20e0044c-beb1-40ab-e016-9662cb4e9179"
      },
      "source": [
        "df.isna().sum()"
      ],
      "execution_count": null,
      "outputs": [
        {
          "output_type": "execute_result",
          "data": {
            "text/plain": [
              "estimated_delivery_days       0\n",
              "price_log                     0\n",
              "freight_value_log             0\n",
              "product_name_lenght           0\n",
              "product_description_lenght    0\n",
              "product_photos_qty            0\n",
              "product_weight_g              0\n",
              "product_length_cm             0\n",
              "product_height_cm             0\n",
              "product_width_cm              0\n",
              "review_score                  0\n",
              "freight_distance              0\n",
              "dtype: int64"
            ]
          },
          "metadata": {
            "tags": []
          },
          "execution_count": 63
        }
      ]
    },
    {
      "cell_type": "code",
      "metadata": {
        "id": "VCFLnqZ1JVVC"
      },
      "source": [
        "df = df.dropna()"
      ],
      "execution_count": null,
      "outputs": []
    },
    {
      "cell_type": "code",
      "metadata": {
        "id": "7oENWvXcJosS"
      },
      "source": [
        "df_train = df.sample(frac=0.8,random_state=0)\n",
        "df_test = df.drop(df_train.index)"
      ],
      "execution_count": null,
      "outputs": []
    },
    {
      "cell_type": "code",
      "metadata": {
        "colab": {
          "base_uri": "https://localhost:8080/"
        },
        "id": "pZDBjLTCKJpC",
        "outputId": "93dab447-dcec-4f7b-fe05-915b0f3464e8"
      },
      "source": [
        "print('shape df_train : ', df_train.shape)\n",
        "print('shape df_test : ', df_test.shape)"
      ],
      "execution_count": null,
      "outputs": [
        {
          "output_type": "stream",
          "text": [
            "shape df_train :  (87628, 12)\n",
            "shape df_test :  (21907, 12)\n"
          ],
          "name": "stdout"
        }
      ]
    },
    {
      "cell_type": "markdown",
      "metadata": {
        "id": "RZ_3KXZtRotm"
      },
      "source": [
        "##**Separando a variável prevista**"
      ]
    },
    {
      "cell_type": "code",
      "metadata": {
        "id": "dkrUnFCGRnid",
        "colab": {
          "base_uri": "https://localhost:8080/"
        },
        "outputId": "f732d64d-da5c-4b96-eabe-baacf9fcda6b"
      },
      "source": [
        "train_labels = df_train['review_score'];\n",
        "test_labels = df_test['review_score'];\n",
        "\n",
        "df_train.drop('review_score', axis=1, inplace=True);\n",
        "df_test.drop('review_score', axis=1, inplace=True);\n",
        "\n",
        "train_labels.head()"
      ],
      "execution_count": null,
      "outputs": [
        {
          "output_type": "execute_result",
          "data": {
            "text/plain": [
              "95972     5\n",
              "101699    5\n",
              "38305     5\n",
              "71904     5\n",
              "45309     1\n",
              "Name: review_score, dtype: int64"
            ]
          },
          "metadata": {
            "tags": []
          },
          "execution_count": 67
        }
      ]
    },
    {
      "cell_type": "code",
      "metadata": {
        "colab": {
          "base_uri": "https://localhost:8080/"
        },
        "id": "4VXuZQx0Nn7O",
        "outputId": "aff643c9-b105-4d6d-ea90-9c2131e425d7"
      },
      "source": [
        "train_labels = train_labels.apply(lambda x: x-1)\n",
        "\n",
        "train_labels.head()"
      ],
      "execution_count": null,
      "outputs": [
        {
          "output_type": "execute_result",
          "data": {
            "text/plain": [
              "95972     4\n",
              "101699    4\n",
              "38305     4\n",
              "71904     4\n",
              "45309     0\n",
              "Name: review_score, dtype: int64"
            ]
          },
          "metadata": {
            "tags": []
          },
          "execution_count": 68
        }
      ]
    },
    {
      "cell_type": "code",
      "metadata": {
        "colab": {
          "base_uri": "https://localhost:8080/"
        },
        "id": "esIoL38-O8GP",
        "outputId": "152c39e1-2b11-42f9-860e-486a50dd0cb8"
      },
      "source": [
        "test_labels = test_labels.apply(lambda x: x-1)\n",
        "\n",
        "test_labels.head()"
      ],
      "execution_count": null,
      "outputs": [
        {
          "output_type": "execute_result",
          "data": {
            "text/plain": [
              "2     4\n",
              "10    0\n",
              "13    4\n",
              "20    1\n",
              "21    4\n",
              "Name: review_score, dtype: int64"
            ]
          },
          "metadata": {
            "tags": []
          },
          "execution_count": 69
        }
      ]
    },
    {
      "cell_type": "code",
      "metadata": {
        "colab": {
          "base_uri": "https://localhost:8080/",
          "height": 386
        },
        "id": "b__0HwXQLM78",
        "outputId": "426196e7-9536-4752-8125-e1129e5a8468"
      },
      "source": [
        "train_stats = df_train.describe()\n",
        "train_stats = train_stats.transpose()\n",
        "train_stats"
      ],
      "execution_count": null,
      "outputs": [
        {
          "output_type": "execute_result",
          "data": {
            "text/html": [
              "<div>\n",
              "<style scoped>\n",
              "    .dataframe tbody tr th:only-of-type {\n",
              "        vertical-align: middle;\n",
              "    }\n",
              "\n",
              "    .dataframe tbody tr th {\n",
              "        vertical-align: top;\n",
              "    }\n",
              "\n",
              "    .dataframe thead th {\n",
              "        text-align: right;\n",
              "    }\n",
              "</style>\n",
              "<table border=\"1\" class=\"dataframe\">\n",
              "  <thead>\n",
              "    <tr style=\"text-align: right;\">\n",
              "      <th></th>\n",
              "      <th>count</th>\n",
              "      <th>mean</th>\n",
              "      <th>std</th>\n",
              "      <th>min</th>\n",
              "      <th>25%</th>\n",
              "      <th>50%</th>\n",
              "      <th>75%</th>\n",
              "      <th>max</th>\n",
              "    </tr>\n",
              "  </thead>\n",
              "  <tbody>\n",
              "    <tr>\n",
              "      <th>estimated_delivery_days</th>\n",
              "      <td>87628.0</td>\n",
              "      <td>24.465217</td>\n",
              "      <td>8.851604</td>\n",
              "      <td>3.000000</td>\n",
              "      <td>19.000000</td>\n",
              "      <td>24.000000</td>\n",
              "      <td>29.000000</td>\n",
              "      <td>156.000000</td>\n",
              "    </tr>\n",
              "    <tr>\n",
              "      <th>price_log</th>\n",
              "      <td>87628.0</td>\n",
              "      <td>4.319458</td>\n",
              "      <td>0.921765</td>\n",
              "      <td>-0.150823</td>\n",
              "      <td>3.686627</td>\n",
              "      <td>4.317621</td>\n",
              "      <td>4.905275</td>\n",
              "      <td>8.815075</td>\n",
              "    </tr>\n",
              "    <tr>\n",
              "      <th>freight_value_log</th>\n",
              "      <td>87628.0</td>\n",
              "      <td>2.812879</td>\n",
              "      <td>0.696980</td>\n",
              "      <td>-4.605170</td>\n",
              "      <td>2.571849</td>\n",
              "      <td>2.791778</td>\n",
              "      <td>3.054473</td>\n",
              "      <td>6.015401</td>\n",
              "    </tr>\n",
              "    <tr>\n",
              "      <th>product_name_lenght</th>\n",
              "      <td>87628.0</td>\n",
              "      <td>48.787168</td>\n",
              "      <td>10.006541</td>\n",
              "      <td>5.000000</td>\n",
              "      <td>42.000000</td>\n",
              "      <td>52.000000</td>\n",
              "      <td>57.000000</td>\n",
              "      <td>72.000000</td>\n",
              "    </tr>\n",
              "    <tr>\n",
              "      <th>product_description_lenght</th>\n",
              "      <td>87628.0</td>\n",
              "      <td>785.661478</td>\n",
              "      <td>650.526531</td>\n",
              "      <td>4.000000</td>\n",
              "      <td>347.000000</td>\n",
              "      <td>600.000000</td>\n",
              "      <td>984.000000</td>\n",
              "      <td>3992.000000</td>\n",
              "    </tr>\n",
              "    <tr>\n",
              "      <th>product_photos_qty</th>\n",
              "      <td>87628.0</td>\n",
              "      <td>2.204489</td>\n",
              "      <td>1.717175</td>\n",
              "      <td>1.000000</td>\n",
              "      <td>1.000000</td>\n",
              "      <td>1.000000</td>\n",
              "      <td>3.000000</td>\n",
              "      <td>20.000000</td>\n",
              "    </tr>\n",
              "    <tr>\n",
              "      <th>product_weight_g</th>\n",
              "      <td>87628.0</td>\n",
              "      <td>2102.137833</td>\n",
              "      <td>3749.060739</td>\n",
              "      <td>0.000000</td>\n",
              "      <td>300.000000</td>\n",
              "      <td>700.000000</td>\n",
              "      <td>1800.000000</td>\n",
              "      <td>40425.000000</td>\n",
              "    </tr>\n",
              "    <tr>\n",
              "      <th>product_length_cm</th>\n",
              "      <td>87628.0</td>\n",
              "      <td>30.225122</td>\n",
              "      <td>16.181969</td>\n",
              "      <td>7.000000</td>\n",
              "      <td>18.000000</td>\n",
              "      <td>25.000000</td>\n",
              "      <td>38.000000</td>\n",
              "      <td>105.000000</td>\n",
              "    </tr>\n",
              "    <tr>\n",
              "      <th>product_height_cm</th>\n",
              "      <td>87628.0</td>\n",
              "      <td>16.620407</td>\n",
              "      <td>13.480956</td>\n",
              "      <td>2.000000</td>\n",
              "      <td>8.000000</td>\n",
              "      <td>13.000000</td>\n",
              "      <td>20.000000</td>\n",
              "      <td>105.000000</td>\n",
              "    </tr>\n",
              "    <tr>\n",
              "      <th>product_width_cm</th>\n",
              "      <td>87628.0</td>\n",
              "      <td>23.058805</td>\n",
              "      <td>11.680778</td>\n",
              "      <td>6.000000</td>\n",
              "      <td>15.000000</td>\n",
              "      <td>20.000000</td>\n",
              "      <td>30.000000</td>\n",
              "      <td>118.000000</td>\n",
              "    </tr>\n",
              "    <tr>\n",
              "      <th>freight_distance</th>\n",
              "      <td>87628.0</td>\n",
              "      <td>5.551599</td>\n",
              "      <td>5.363233</td>\n",
              "      <td>0.000000</td>\n",
              "      <td>1.773720</td>\n",
              "      <td>4.077073</td>\n",
              "      <td>7.389441</td>\n",
              "      <td>79.600874</td>\n",
              "    </tr>\n",
              "  </tbody>\n",
              "</table>\n",
              "</div>"
            ],
            "text/plain": [
              "                              count         mean  ...          75%           max\n",
              "estimated_delivery_days     87628.0    24.465217  ...    29.000000    156.000000\n",
              "price_log                   87628.0     4.319458  ...     4.905275      8.815075\n",
              "freight_value_log           87628.0     2.812879  ...     3.054473      6.015401\n",
              "product_name_lenght         87628.0    48.787168  ...    57.000000     72.000000\n",
              "product_description_lenght  87628.0   785.661478  ...   984.000000   3992.000000\n",
              "product_photos_qty          87628.0     2.204489  ...     3.000000     20.000000\n",
              "product_weight_g            87628.0  2102.137833  ...  1800.000000  40425.000000\n",
              "product_length_cm           87628.0    30.225122  ...    38.000000    105.000000\n",
              "product_height_cm           87628.0    16.620407  ...    20.000000    105.000000\n",
              "product_width_cm            87628.0    23.058805  ...    30.000000    118.000000\n",
              "freight_distance            87628.0     5.551599  ...     7.389441     79.600874\n",
              "\n",
              "[11 rows x 8 columns]"
            ]
          },
          "metadata": {
            "tags": []
          },
          "execution_count": 70
        }
      ]
    },
    {
      "cell_type": "markdown",
      "metadata": {
        "id": "yT-OxstuK1Q6"
      },
      "source": [
        "##**Normalização dos dados**"
      ]
    },
    {
      "cell_type": "code",
      "metadata": {
        "id": "OKutAgClKUam"
      },
      "source": [
        "def normalize(dataset):\n",
        "  return (dataset - train_stats['mean']) / train_stats['std']\n",
        "\n",
        "df_train_normed = normalize(df_train)\n",
        "df_test_normed = normalize(df_test)"
      ],
      "execution_count": null,
      "outputs": []
    },
    {
      "cell_type": "markdown",
      "metadata": {
        "id": "aW93OKHTL7US"
      },
      "source": [
        "###**Construção do modelo**"
      ]
    },
    {
      "cell_type": "code",
      "metadata": {
        "id": "DQrkFOctLiz3"
      },
      "source": [
        "def build_model():\n",
        "  model = keras.Sequential([\n",
        "    layers.Dense(11, input_shape=[len(df_train.keys())]),\n",
        "    layers.Dense(64, activation='relu'),\n",
        "    layers.Dense(32, activation='tanh'),\n",
        "    layers.Dense(16, activation='relu'),\n",
        "    layers.Dense(5, activation='softmax')\n",
        "  ])\n",
        "\n",
        "  optimizer = tf.keras.optimizers.RMSprop(0.001)\n",
        "\n",
        "  model.compile(loss='sparse_categorical_crossentropy',\n",
        "                optimizer='adam',\n",
        "                metrics=['mae', 'mse', 'accuracy'])\n",
        "  return model"
      ],
      "execution_count": null,
      "outputs": []
    },
    {
      "cell_type": "code",
      "metadata": {
        "id": "oxhiNARHL6da"
      },
      "source": [
        "model = build_model()"
      ],
      "execution_count": null,
      "outputs": []
    },
    {
      "cell_type": "code",
      "metadata": {
        "colab": {
          "base_uri": "https://localhost:8080/"
        },
        "id": "zRHlhu9GL_TX",
        "outputId": "16c06ee3-db50-4f36-ccbd-b7f089e410a6"
      },
      "source": [
        "model.summary()"
      ],
      "execution_count": null,
      "outputs": [
        {
          "output_type": "stream",
          "text": [
            "Model: \"sequential_2\"\n",
            "_________________________________________________________________\n",
            "Layer (type)                 Output Shape              Param #   \n",
            "=================================================================\n",
            "dense_8 (Dense)              (None, 11)                132       \n",
            "_________________________________________________________________\n",
            "dense_9 (Dense)              (None, 64)                768       \n",
            "_________________________________________________________________\n",
            "dense_10 (Dense)             (None, 32)                2080      \n",
            "_________________________________________________________________\n",
            "dense_11 (Dense)             (None, 16)                528       \n",
            "_________________________________________________________________\n",
            "dense_12 (Dense)             (None, 5)                 85        \n",
            "=================================================================\n",
            "Total params: 3,593\n",
            "Trainable params: 3,593\n",
            "Non-trainable params: 0\n",
            "_________________________________________________________________\n"
          ],
          "name": "stdout"
        }
      ]
    },
    {
      "cell_type": "code",
      "metadata": {
        "colab": {
          "base_uri": "https://localhost:8080/"
        },
        "id": "eHtjYXCmMOfI",
        "outputId": "e717d388-5f2f-46bf-8829-d27ee9319471"
      },
      "source": [
        "example_batch = df_train_normed[:10]\n",
        "example_result = model.predict(example_batch)\n",
        "example_result"
      ],
      "execution_count": null,
      "outputs": [
        {
          "output_type": "execute_result",
          "data": {
            "text/plain": [
              "array([[0.20070137, 0.18733864, 0.16077833, 0.24631676, 0.2048649 ],\n",
              "       [0.29653504, 0.20970829, 0.1034333 , 0.11327621, 0.27704716],\n",
              "       [0.28053358, 0.16078465, 0.15965769, 0.12397453, 0.2750495 ],\n",
              "       [0.07698423, 0.09801316, 0.31192452, 0.3553724 , 0.1577057 ],\n",
              "       [0.13559014, 0.16432844, 0.2630001 , 0.2636289 , 0.17345251],\n",
              "       [0.20851336, 0.18612766, 0.10183641, 0.30150333, 0.20201927],\n",
              "       [0.15995906, 0.13295603, 0.27234405, 0.28090873, 0.1538321 ],\n",
              "       [0.19934775, 0.1983635 , 0.10304853, 0.1119412 , 0.38729903],\n",
              "       [0.19976236, 0.18069068, 0.24685103, 0.17799023, 0.19470572],\n",
              "       [0.15112549, 0.13582008, 0.2940765 , 0.24281292, 0.17616506]],\n",
              "      dtype=float32)"
            ]
          },
          "metadata": {
            "tags": []
          },
          "execution_count": 75
        }
      ]
    },
    {
      "cell_type": "markdown",
      "metadata": {
        "id": "W1Y-Rm69Zgpe"
      },
      "source": [
        "##**Treinando o modelo**"
      ]
    },
    {
      "cell_type": "code",
      "metadata": {
        "colab": {
          "base_uri": "https://localhost:8080/"
        },
        "id": "jBXCYItnMcHS",
        "outputId": "20341f1b-af45-4cf4-d372-fa4753a32d82"
      },
      "source": [
        "# Mostra o progresso do treinamento imprimindo um único ponto para cada epoch completada\n",
        "class PrintDot(keras.callbacks.Callback):\n",
        "  def on_epoch_end(self, epoch, logs):\n",
        "    if epoch % 100 == 0: print('')\n",
        "    print('.', end='')\n",
        "\n",
        "EPOCHS = 100\n",
        "\n",
        "history = model.fit(\n",
        "  df_train_normed, train_labels,\n",
        "  epochs=EPOCHS, validation_split = 0.2, verbose=0,\n",
        "  callbacks=[PrintDot()])"
      ],
      "execution_count": null,
      "outputs": [
        {
          "output_type": "stream",
          "text": [
            "\n",
            "...................................................................................................."
          ],
          "name": "stdout"
        }
      ]
    },
    {
      "cell_type": "code",
      "metadata": {
        "colab": {
          "base_uri": "https://localhost:8080/",
          "height": 202
        },
        "id": "6lfYWUyHOdxY",
        "outputId": "4fd18c3f-e321-440b-bd19-6353bfa18e1e"
      },
      "source": [
        "hist = pd.DataFrame(history.history)\n",
        "hist['epoch'] = history.epoch\n",
        "hist.tail()"
      ],
      "execution_count": null,
      "outputs": [
        {
          "output_type": "execute_result",
          "data": {
            "text/html": [
              "<div>\n",
              "<style scoped>\n",
              "    .dataframe tbody tr th:only-of-type {\n",
              "        vertical-align: middle;\n",
              "    }\n",
              "\n",
              "    .dataframe tbody tr th {\n",
              "        vertical-align: top;\n",
              "    }\n",
              "\n",
              "    .dataframe thead th {\n",
              "        text-align: right;\n",
              "    }\n",
              "</style>\n",
              "<table border=\"1\" class=\"dataframe\">\n",
              "  <thead>\n",
              "    <tr style=\"text-align: right;\">\n",
              "      <th></th>\n",
              "      <th>loss</th>\n",
              "      <th>mae</th>\n",
              "      <th>mse</th>\n",
              "      <th>accuracy</th>\n",
              "      <th>val_loss</th>\n",
              "      <th>val_mae</th>\n",
              "      <th>val_mse</th>\n",
              "      <th>val_accuracy</th>\n",
              "      <th>epoch</th>\n",
              "    </tr>\n",
              "  </thead>\n",
              "  <tbody>\n",
              "    <tr>\n",
              "      <th>95</th>\n",
              "      <td>1.151462</td>\n",
              "      <td>2.917787</td>\n",
              "      <td>10.121368</td>\n",
              "      <td>0.581253</td>\n",
              "      <td>1.225830</td>\n",
              "      <td>2.903822</td>\n",
              "      <td>10.067553</td>\n",
              "      <td>0.568356</td>\n",
              "      <td>95</td>\n",
              "    </tr>\n",
              "    <tr>\n",
              "      <th>96</th>\n",
              "      <td>1.151228</td>\n",
              "      <td>2.917789</td>\n",
              "      <td>10.121342</td>\n",
              "      <td>0.581681</td>\n",
              "      <td>1.224826</td>\n",
              "      <td>2.903822</td>\n",
              "      <td>10.066813</td>\n",
              "      <td>0.568413</td>\n",
              "      <td>96</td>\n",
              "    </tr>\n",
              "    <tr>\n",
              "      <th>97</th>\n",
              "      <td>1.151223</td>\n",
              "      <td>2.917785</td>\n",
              "      <td>10.121440</td>\n",
              "      <td>0.581068</td>\n",
              "      <td>1.229057</td>\n",
              "      <td>2.903822</td>\n",
              "      <td>10.069901</td>\n",
              "      <td>0.567443</td>\n",
              "      <td>97</td>\n",
              "    </tr>\n",
              "    <tr>\n",
              "      <th>98</th>\n",
              "      <td>1.150536</td>\n",
              "      <td>2.917793</td>\n",
              "      <td>10.121432</td>\n",
              "      <td>0.582080</td>\n",
              "      <td>1.225000</td>\n",
              "      <td>2.903822</td>\n",
              "      <td>10.069649</td>\n",
              "      <td>0.568926</td>\n",
              "      <td>98</td>\n",
              "    </tr>\n",
              "    <tr>\n",
              "      <th>99</th>\n",
              "      <td>1.150293</td>\n",
              "      <td>2.917789</td>\n",
              "      <td>10.121459</td>\n",
              "      <td>0.581881</td>\n",
              "      <td>1.226261</td>\n",
              "      <td>2.903822</td>\n",
              "      <td>10.067939</td>\n",
              "      <td>0.568527</td>\n",
              "      <td>99</td>\n",
              "    </tr>\n",
              "  </tbody>\n",
              "</table>\n",
              "</div>"
            ],
            "text/plain": [
              "        loss       mae        mse  ...    val_mse  val_accuracy  epoch\n",
              "95  1.151462  2.917787  10.121368  ...  10.067553      0.568356     95\n",
              "96  1.151228  2.917789  10.121342  ...  10.066813      0.568413     96\n",
              "97  1.151223  2.917785  10.121440  ...  10.069901      0.567443     97\n",
              "98  1.150536  2.917793  10.121432  ...  10.069649      0.568926     98\n",
              "99  1.150293  2.917789  10.121459  ...  10.067939      0.568527     99\n",
              "\n",
              "[5 rows x 9 columns]"
            ]
          },
          "metadata": {
            "tags": []
          },
          "execution_count": 77
        }
      ]
    },
    {
      "cell_type": "code",
      "metadata": {
        "colab": {
          "base_uri": "https://localhost:8080/",
          "height": 549
        },
        "id": "EaqS75ySUF1_",
        "outputId": "08abd576-ee14-429d-f75d-7a09483cd3dd"
      },
      "source": [
        "def plot_history(history):\n",
        "  hist = pd.DataFrame(history.history)\n",
        "  hist['epoch'] = history.epoch\n",
        "\n",
        "  plt.figure()\n",
        "  plt.xlabel('Epoch')\n",
        "  plt.ylabel('Mean Abs Error [MPG]')\n",
        "  plt.plot(hist['epoch'], hist['mae'],\n",
        "           label='Train Error')\n",
        "  plt.plot(hist['epoch'], hist['val_mae'],\n",
        "           label = 'Val Error')\n",
        "  plt.ylim([0,5])\n",
        "  plt.legend()\n",
        "\n",
        "  plt.figure()\n",
        "  plt.xlabel('Epoch')\n",
        "  plt.ylabel('Mean Square Error [$MPG^2$]')\n",
        "  plt.plot(hist['epoch'], hist['mse'],\n",
        "           label='Train Error')\n",
        "  plt.plot(hist['epoch'], hist['val_mse'],\n",
        "           label = 'Val Error')\n",
        "  plt.ylim([0,20])\n",
        "  plt.legend()\n",
        "  plt.show()\n",
        "\n",
        "\n",
        "plot_history(history)"
      ],
      "execution_count": null,
      "outputs": [
        {
          "output_type": "display_data",
          "data": {
            "image/png": "[encoded data removed]",
            "text/plain": [
              "<Figure size 432x288 with 1 Axes>"
            ]
          },
          "metadata": {
            "tags": [],
            "needs_background": "light"
          }
        },
        {
          "output_type": "display_data",
          "data": {
            "image/png": "[encoded data removed]",
            "text/plain": [
              "<Figure size 432x288 with 1 Axes>"
            ]
          },
          "metadata": {
            "tags": [],
            "needs_background": "light"
          }
        }
      ]
    },
    {
      "cell_type": "code",
      "metadata": {
        "id": "Fn-T2NLFZ5U9"
      },
      "source": [
        "# model = build_model()\n",
        "\n",
        "# # O paramêtro patience é o quantidade de epochs para checar as melhoras\n",
        "# early_stop = keras.callbacks.EarlyStopping(monitor='val_loss', patience=10)\n",
        "\n",
        "# history = model.fit(normed_train_data, train_labels, epochs=EPOCHS,\n",
        "#                     validation_split = 0.2, verbose=0, callbacks=[early_stop, PrintDot()])\n",
        "\n",
        "# plot_history(history)"
      ],
      "execution_count": null,
      "outputs": []
    },
    {
      "cell_type": "code",
      "metadata": {
        "colab": {
          "base_uri": "https://localhost:8080/"
        },
        "id": "ZcM_HFyRaDPR",
        "outputId": "da3c47c8-3889-493e-be84-761413f1c8e2"
      },
      "source": [
        "loss, mae, mse, accuracy = model.evaluate(df_test_normed, test_labels, verbose=2)\n",
        "\n",
        "print(\"Testing set Mean Abs Error: {:5.2f} Review Score\".format(mae))"
      ],
      "execution_count": null,
      "outputs": [
        {
          "output_type": "stream",
          "text": [
            "685/685 - 1s - loss: 1.2225 - mae: 2.9118 - mse: 10.0986 - accuracy: 0.5696\n",
            "Testing set Mean Abs Error:  2.91 Review Score\n"
          ],
          "name": "stdout"
        }
      ]
    },
    {
      "cell_type": "code",
      "metadata": {
        "colab": {
          "base_uri": "https://localhost:8080/"
        },
        "id": "98tMtw88QeRO",
        "outputId": "dd81ca7c-1a23-443f-8e42-117c12e41ec0"
      },
      "source": [
        "## Genetare Predictions ##\n",
        "\n",
        "# Predictions for default model:\n",
        "predictions = model.predict(df_test_normed)\n",
        "# Classifying based on predictions:\n",
        "c = np.argmax(predictions, axis=1)\n",
        "\n",
        "print(set(c))"
      ],
      "execution_count": null,
      "outputs": [
        {
          "output_type": "stream",
          "text": [
            "{0, 1, 2, 3, 4}\n"
          ],
          "name": "stdout"
        }
      ]
    },
    {
      "cell_type": "code",
      "metadata": {
        "colab": {
          "base_uri": "https://localhost:8080/",
          "height": 606
        },
        "id": "ziSJqQKqaHCV",
        "outputId": "b385c420-3bc7-4690-e088-fa09da5be46a"
      },
      "source": [
        "## Evaluate Classification ##\n",
        "\n",
        "\n",
        "# Turn label into numpy column vector\n",
        "l = np.array(test_labels).T\n",
        "\n",
        "# Create pandas dataframe to store all results and label:\n",
        "df = pd.DataFrame({'Prediction Classes': c, 'Test Label': l})\n",
        "\n",
        "# Create confusion matrix 1:\n",
        "confusion_matrix = pd.crosstab(df['Test Label'], df['Prediction Classes'], rownames=['Label'], colnames=['Prediction']) #, normalize='index'\n",
        "# Displaying confusion matrix 1:\n",
        "plt.figure(figsize=(10,10))\n",
        "sns.heatmap(confusion_matrix, annot=True, cmap='Blues')\n",
        "plt.savefig(\"ConfusionMatrix.png\") #save figure\n",
        "plt.show()"
      ],
      "execution_count": null,
      "outputs": [
        {
          "output_type": "display_data",
          "data": {
            "image/png": "[encoded data removed]",
            "text/plain": [
              "<Figure size 720x720 with 2 Axes>"
            ]
          },
          "metadata": {
            "tags": [],
            "needs_background": "light"
          }
        }
      ]
    },
    {
      "cell_type": "code",
      "metadata": {
        "colab": {
          "base_uri": "https://localhost:8080/",
          "height": 218
        },
        "id": "soYkd_eOaeNJ",
        "outputId": "d882fcdc-58b1-4dd0-f8ea-3b081a866869"
      },
      "source": [
        "error = test_predictions - test_labels\n",
        "plt.hist(error, bins = 25)\n",
        "plt.xlabel(\"Prediction Error [Review Score]\")\n",
        "_ = plt.ylabel(\"Count\")"
      ],
      "execution_count": null,
      "outputs": [
        {
          "output_type": "error",
          "ename": "NameError",
          "evalue": "ignored",
          "traceback": [
            "\u001b[0;31m---------------------------------------------------------------------------\u001b[0m",
            "\u001b[0;31mNameError\u001b[0m                                 Traceback (most recent call last)",
            "\u001b[0;32m<ipython-input-83-3c39c9a2ab84>\u001b[0m in \u001b[0;36m<module>\u001b[0;34m()\u001b[0m\n\u001b[0;32m----> 1\u001b[0;31m \u001b[0merror\u001b[0m \u001b[0;34m=\u001b[0m \u001b[0mtest_predictions\u001b[0m \u001b[0;34m-\u001b[0m \u001b[0mtest_labels\u001b[0m\u001b[0;34m\u001b[0m\u001b[0;34m\u001b[0m\u001b[0m\n\u001b[0m\u001b[1;32m      2\u001b[0m \u001b[0mplt\u001b[0m\u001b[0;34m.\u001b[0m\u001b[0mhist\u001b[0m\u001b[0;34m(\u001b[0m\u001b[0merror\u001b[0m\u001b[0;34m,\u001b[0m \u001b[0mbins\u001b[0m \u001b[0;34m=\u001b[0m \u001b[0;36m25\u001b[0m\u001b[0;34m)\u001b[0m\u001b[0;34m\u001b[0m\u001b[0;34m\u001b[0m\u001b[0m\n\u001b[1;32m      3\u001b[0m \u001b[0mplt\u001b[0m\u001b[0;34m.\u001b[0m\u001b[0mxlabel\u001b[0m\u001b[0;34m(\u001b[0m\u001b[0;34m\"Prediction Error [Review Score]\"\u001b[0m\u001b[0;34m)\u001b[0m\u001b[0;34m\u001b[0m\u001b[0;34m\u001b[0m\u001b[0m\n\u001b[1;32m      4\u001b[0m \u001b[0m_\u001b[0m \u001b[0;34m=\u001b[0m \u001b[0mplt\u001b[0m\u001b[0;34m.\u001b[0m\u001b[0mylabel\u001b[0m\u001b[0;34m(\u001b[0m\u001b[0;34m\"Count\"\u001b[0m\u001b[0;34m)\u001b[0m\u001b[0;34m\u001b[0m\u001b[0;34m\u001b[0m\u001b[0m\n",
            "\u001b[0;31mNameError\u001b[0m: name 'test_predictions' is not defined"
          ]
        }
      ]
    },
    {
      "cell_type": "code",
      "metadata": {
        "colab": {
          "base_uri": "https://localhost:8080/"
        },
        "id": "Hq97LGhFanxz",
        "outputId": "08fee82f-140a-4633-de73-d03c28200a1d"
      },
      "source": [
        "#%cd \"/content/drive/Shared drives/Projeto Ciência de Dados/models/classification_2020_11_25_10\" \n",
        "model.save('classification_2020_11_25_10')"
      ],
      "execution_count": null,
      "outputs": [
        {
          "output_type": "stream",
          "text": [
            "INFO:tensorflow:Assets written to: classification_2020_11_25_10/assets\n"
          ],
          "name": "stdout"
        }
      ]
    },
    {
      "cell_type": "code",
      "metadata": {
        "id": "Q7OaTI_Dhskr",
        "colab": {
          "base_uri": "https://localhost:8080/"
        },
        "outputId": "00aed792-d32a-4d15-d930-ebf04c6dfc8f"
      },
      "source": [
        "%ls\n",
        "%cd \"/content/drive/Shared drives/Projeto Ciência de Dados/models/\"\n",
        "%ls\n",
        "model.save('classification_2020_11_25_10')"
      ],
      "execution_count": null,
      "outputs": [
        {
          "output_type": "stream",
          "text": [
            "\u001b[0m\u001b[01;34mclassification_2020_11_25_10\u001b[0m/  \u001b[01;34mdeep_learning_2020_11_25_10\u001b[0m/\n",
            "/content/drive/Shared drives/Projeto Ciência de Dados/models\n",
            "\u001b[0m\u001b[01;34mclassification_2020_11_25_10\u001b[0m/  \u001b[01;34mdeep_learning_2020_11_25_10\u001b[0m/\n",
            "INFO:tensorflow:Assets written to: classification_2020_11_25_10/assets\n"
          ],
          "name": "stdout"
        }
      ]
    }
  ]
}