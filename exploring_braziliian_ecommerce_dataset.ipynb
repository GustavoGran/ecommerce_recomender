{
 "cells": [
  {
   "cell_type": "code",
   "execution_count": 1,
   "metadata": {},
   "outputs": [],
   "source": [
    "import pandas as pd\n",
    "import numpy as np\n",
    "import matplotlib.pyplot as plt\n",
    "import seaborn as sns"
   ]
  },
  {
   "cell_type": "code",
   "execution_count": 2,
   "metadata": {},
   "outputs": [
    {
     "name": "stdout",
     "output_type": "stream",
     "text": [
      "C:\\Users\\Visagio\\Downloads\\Poli\\data_science\\notebooks\\datasets\\olist_ecommerce\n"
     ]
    }
   ],
   "source": [
    "%cd \"datasets/olist_ecommerce\""
   ]
  },
  {
   "cell_type": "code",
   "execution_count": 3,
   "metadata": {},
   "outputs": [],
   "source": [
    "customers_file_name = 'olist_customers_dataset.csv'\n",
    "orders_file_name = 'olist_orders_dataset.csv'\n",
    "geolocation_file_name = 'olist_geolocation_dataset.csv'\n",
    "products_file_name = 'olist_products_dataset.csv'\n",
    "order_items_file_name = 'olist_order_items_dataset.csv'\n",
    "sellers_file_name = 'olist_sellers_dataset.csv'\n",
    "order_payments_file_name = 'olist_order_payments_dataset.csv'\n",
    "product_translation_file_name = 'product_category_name_translation.csv'\n",
    "order_reviews_file_name = 'olist_order_reviews_dataset.csv'"
   ]
  },
  {
   "cell_type": "code",
   "execution_count": 4,
   "metadata": {},
   "outputs": [],
   "source": [
    "df_customers = pd.read_csv(customers_file_name,sep=',')\n",
    "df_orders = pd.read_csv(orders_file_name,sep=',')\n",
    "df_geolocation = pd.read_csv(geolocation_file_name,sep=',')\n",
    "df_products = pd.read_csv(products_file_name,sep=',')\n",
    "df_order_items = pd.read_csv(order_items_file_name,sep=',')\n",
    "df_sellers = pd.read_csv(sellers_file_name,sep=',')\n",
    "df_order_payments = pd.read_csv(order_payments_file_name,sep=',')\n",
    "df_order_reviews = pd.read_csv(order_reviews_file_name,sep=',')"
   ]
  },
  {
   "cell_type": "code",
   "execution_count": 5,
   "metadata": {},
   "outputs": [
    {
     "data": {
      "image/png": "[encoded data removed]",
      "text/plain": [
       "<Figure size 720x432 with 1 Axes>"
      ]
     },
     "metadata": {
      "needs_background": "light"
     },
     "output_type": "display_data"
    }
   ],
   "source": [
    "customer_states = df_customers.groupby('customer_state')\n",
    "unique_customers_by_state = customer_states.customer_unique_id.nunique().sort_values(ascending=False).to_frame()\n",
    "\n",
    "unique_customers_by_state['customer_state'] = unique_customers_by_state.index\n",
    "unique_customers_by_state['perc_total_customers'] = unique_customers_by_state.customer_unique_id *(100 / df_customers.customer_unique_id.nunique())\n",
    "\n",
    "f, ax = plt.subplots(figsize=(10,6))\n",
    "sns.set_color_codes(\"dark\")\n",
    "\n",
    "splot = sns.barplot(x=\"perc_total_customers\", y=\"customer_state\", data=unique_customers_by_state.head(5), color=\"b\")\n",
    "\n",
    "# Add annotations of values\n",
    "for p in ax.patches:\n",
    "    ax.annotate(\"%.f\" % p.get_width(), xy=(p.get_width(), p.get_y()+p.get_height()/2),\n",
    "            xytext=(5, 0), textcoords='offset points', ha=\"left\", va=\"center\", size = 16)\n",
    "\n",
    "# Add a legend and informative axis label\n",
    "\n",
    "ax.set(xlim=(0, max(unique_customers_by_state['perc_total_customers'])), \n",
    "       xlabel='', ylabel='', xticklabels=[])\n",
    "\n",
    "ax.set_title(\"% dos clientes únicos do e-commerce nos 5 estados \\nmais relevantes\",\n",
    "             size=18,fontweight=\"bold\",loc = 'left')\n",
    "ax.grid(False)\n",
    "sns.despine(offset=10, trim=True, left=True, bottom=True);\n",
    "plt.show()"
   ]
  },
  {
   "cell_type": "code",
   "execution_count": 6,
   "metadata": {
    "scrolled": true
   },
   "outputs": [],
   "source": [
    "df_customer_orders = pd.merge(\n",
    "    pd.merge(df_customers, df_orders, how='inner', on=\"customer_id\", validate=\"one_to_one\"),\n",
    "    pd.merge(df_order_payments, df_order_reviews, how='inner', on=\"order_id\"),\n",
    "    how='inner', on=\"order_id\")\n",
    "\n",
    "df_order_products = pd.merge(df_order_items,df_products,how='inner',on='product_id')"
   ]
  },
  {
   "cell_type": "code",
   "execution_count": 7,
   "metadata": {},
   "outputs": [
    {
     "data": {
      "text/html": [
       "<div>\n",
       "<style scoped>\n",
       "    .dataframe tbody tr th:only-of-type {\n",
       "        vertical-align: middle;\n",
       "    }\n",
       "\n",
       "    .dataframe tbody tr th {\n",
       "        vertical-align: top;\n",
       "    }\n",
       "\n",
       "    .dataframe thead th {\n",
       "        text-align: right;\n",
       "    }\n",
       "</style>\n",
       "<table border=\"1\" class=\"dataframe\">\n",
       "  <thead>\n",
       "    <tr style=\"text-align: right;\">\n",
       "      <th></th>\n",
       "      <th>customer_id</th>\n",
       "      <th>customer_unique_id</th>\n",
       "      <th>customer_zip_code_prefix</th>\n",
       "      <th>customer_city</th>\n",
       "      <th>customer_state</th>\n",
       "      <th>order_id</th>\n",
       "      <th>order_status</th>\n",
       "      <th>order_purchase_timestamp</th>\n",
       "      <th>order_approved_at</th>\n",
       "      <th>order_delivered_carrier_date</th>\n",
       "      <th>...</th>\n",
       "      <th>payment_value</th>\n",
       "      <th>review_id</th>\n",
       "      <th>review_score</th>\n",
       "      <th>review_comment_title</th>\n",
       "      <th>review_comment_message</th>\n",
       "      <th>review_creation_date</th>\n",
       "      <th>review_answer_timestamp</th>\n",
       "      <th>number_of_items</th>\n",
       "      <th>number_of_unique_items</th>\n",
       "      <th>sum_of_item_prices</th>\n",
       "    </tr>\n",
       "  </thead>\n",
       "  <tbody>\n",
       "    <tr>\n",
       "      <th>0</th>\n",
       "      <td>06b8999e2fba1a1fbc88172c00ba8bc7</td>\n",
       "      <td>861eff4711a542e4b93843c6dd7febb0</td>\n",
       "      <td>14409</td>\n",
       "      <td>franca</td>\n",
       "      <td>SP</td>\n",
       "      <td>00e7ee1b050b8499577073aeb2a297a1</td>\n",
       "      <td>delivered</td>\n",
       "      <td>2017-05-16 15:05:35</td>\n",
       "      <td>2017-05-16 15:22:12</td>\n",
       "      <td>2017-05-23 10:47:57</td>\n",
       "      <td>...</td>\n",
       "      <td>146.87</td>\n",
       "      <td>88b8b52d46df026a9d1ad2136a59b30b</td>\n",
       "      <td>4</td>\n",
       "      <td>NaN</td>\n",
       "      <td>NaN</td>\n",
       "      <td>2017-05-26 00:00:00</td>\n",
       "      <td>2017-05-30 22:34:40</td>\n",
       "      <td>1</td>\n",
       "      <td>1</td>\n",
       "      <td>124.99</td>\n",
       "    </tr>\n",
       "    <tr>\n",
       "      <th>1</th>\n",
       "      <td>18955e83d337fd6b2def6b18a428ac77</td>\n",
       "      <td>290c77bc529b7ac935b93aa66c333dc3</td>\n",
       "      <td>9790</td>\n",
       "      <td>sao bernardo do campo</td>\n",
       "      <td>SP</td>\n",
       "      <td>29150127e6685892b6eab3eec79f59c7</td>\n",
       "      <td>delivered</td>\n",
       "      <td>2018-01-12 20:48:24</td>\n",
       "      <td>2018-01-12 20:58:32</td>\n",
       "      <td>2018-01-15 17:14:59</td>\n",
       "      <td>...</td>\n",
       "      <td>335.48</td>\n",
       "      <td>02fc48a9efa3e3d0f1a8ea26507eeec3</td>\n",
       "      <td>5</td>\n",
       "      <td>NaN</td>\n",
       "      <td>NaN</td>\n",
       "      <td>2018-01-30 00:00:00</td>\n",
       "      <td>2018-02-10 22:43:29</td>\n",
       "      <td>1</td>\n",
       "      <td>1</td>\n",
       "      <td>289.00</td>\n",
       "    </tr>\n",
       "    <tr>\n",
       "      <th>2</th>\n",
       "      <td>4e7b3e00288586ebd08712fdd0374a03</td>\n",
       "      <td>060e732b5b29e8181a18229c7b0b2b5e</td>\n",
       "      <td>1151</td>\n",
       "      <td>sao paulo</td>\n",
       "      <td>SP</td>\n",
       "      <td>b2059ed67ce144a36e2aa97d2c9e9ad2</td>\n",
       "      <td>delivered</td>\n",
       "      <td>2018-05-19 16:07:45</td>\n",
       "      <td>2018-05-20 16:19:10</td>\n",
       "      <td>2018-06-11 14:31:00</td>\n",
       "      <td>...</td>\n",
       "      <td>157.73</td>\n",
       "      <td>5ad6695d76ee186dc473c42706984d87</td>\n",
       "      <td>5</td>\n",
       "      <td>NaN</td>\n",
       "      <td>NaN</td>\n",
       "      <td>2018-06-15 00:00:00</td>\n",
       "      <td>2018-06-15 12:10:59</td>\n",
       "      <td>1</td>\n",
       "      <td>1</td>\n",
       "      <td>139.94</td>\n",
       "    </tr>\n",
       "    <tr>\n",
       "      <th>3</th>\n",
       "      <td>b2b6027bc5c5109e529d4dc6358b12c3</td>\n",
       "      <td>259dac757896d24d7702b9acbbff3f3c</td>\n",
       "      <td>8775</td>\n",
       "      <td>mogi das cruzes</td>\n",
       "      <td>SP</td>\n",
       "      <td>951670f92359f4fe4a63112aa7306eba</td>\n",
       "      <td>delivered</td>\n",
       "      <td>2018-03-13 16:06:38</td>\n",
       "      <td>2018-03-13 17:29:19</td>\n",
       "      <td>2018-03-27 23:22:42</td>\n",
       "      <td>...</td>\n",
       "      <td>173.30</td>\n",
       "      <td>059a801bb31f6aab2266e672cab87bc5</td>\n",
       "      <td>5</td>\n",
       "      <td>NaN</td>\n",
       "      <td>NaN</td>\n",
       "      <td>2018-03-29 00:00:00</td>\n",
       "      <td>2018-04-02 18:36:47</td>\n",
       "      <td>1</td>\n",
       "      <td>1</td>\n",
       "      <td>149.94</td>\n",
       "    </tr>\n",
       "    <tr>\n",
       "      <th>4</th>\n",
       "      <td>4f2d8ab171c80ec8364f7c12e35b23ad</td>\n",
       "      <td>345ecd01c38d18a9036ed96c73b8d066</td>\n",
       "      <td>13056</td>\n",
       "      <td>campinas</td>\n",
       "      <td>SP</td>\n",
       "      <td>6b7d50bd145f6fc7f33cebabd7e49d0f</td>\n",
       "      <td>delivered</td>\n",
       "      <td>2018-07-29 09:51:30</td>\n",
       "      <td>2018-07-29 10:10:09</td>\n",
       "      <td>2018-07-30 15:16:00</td>\n",
       "      <td>...</td>\n",
       "      <td>252.25</td>\n",
       "      <td>8490879d58d6c5d7773f2739a03f089a</td>\n",
       "      <td>5</td>\n",
       "      <td>a melhor nota</td>\n",
       "      <td>O baratheon è esxelente Amo adoro o baratheon</td>\n",
       "      <td>2018-08-10 00:00:00</td>\n",
       "      <td>2018-08-17 01:59:52</td>\n",
       "      <td>1</td>\n",
       "      <td>1</td>\n",
       "      <td>230.00</td>\n",
       "    </tr>\n",
       "  </tbody>\n",
       "</table>\n",
       "<p>5 rows × 25 columns</p>\n",
       "</div>"
      ],
      "text/plain": [
       "                        customer_id                customer_unique_id  \\\n",
       "0  06b8999e2fba1a1fbc88172c00ba8bc7  861eff4711a542e4b93843c6dd7febb0   \n",
       "1  18955e83d337fd6b2def6b18a428ac77  290c77bc529b7ac935b93aa66c333dc3   \n",
       "2  4e7b3e00288586ebd08712fdd0374a03  060e732b5b29e8181a18229c7b0b2b5e   \n",
       "3  b2b6027bc5c5109e529d4dc6358b12c3  259dac757896d24d7702b9acbbff3f3c   \n",
       "4  4f2d8ab171c80ec8364f7c12e35b23ad  345ecd01c38d18a9036ed96c73b8d066   \n",
       "\n",
       "   customer_zip_code_prefix          customer_city customer_state  \\\n",
       "0                     14409                 franca             SP   \n",
       "1                      9790  sao bernardo do campo             SP   \n",
       "2                      1151              sao paulo             SP   \n",
       "3                      8775        mogi das cruzes             SP   \n",
       "4                     13056               campinas             SP   \n",
       "\n",
       "                           order_id order_status order_purchase_timestamp  \\\n",
       "0  00e7ee1b050b8499577073aeb2a297a1    delivered      2017-05-16 15:05:35   \n",
       "1  29150127e6685892b6eab3eec79f59c7    delivered      2018-01-12 20:48:24   \n",
       "2  b2059ed67ce144a36e2aa97d2c9e9ad2    delivered      2018-05-19 16:07:45   \n",
       "3  951670f92359f4fe4a63112aa7306eba    delivered      2018-03-13 16:06:38   \n",
       "4  6b7d50bd145f6fc7f33cebabd7e49d0f    delivered      2018-07-29 09:51:30   \n",
       "\n",
       "     order_approved_at order_delivered_carrier_date  ... payment_value  \\\n",
       "0  2017-05-16 15:22:12          2017-05-23 10:47:57  ...        146.87   \n",
       "1  2018-01-12 20:58:32          2018-01-15 17:14:59  ...        335.48   \n",
       "2  2018-05-20 16:19:10          2018-06-11 14:31:00  ...        157.73   \n",
       "3  2018-03-13 17:29:19          2018-03-27 23:22:42  ...        173.30   \n",
       "4  2018-07-29 10:10:09          2018-07-30 15:16:00  ...        252.25   \n",
       "\n",
       "                          review_id  review_score review_comment_title  \\\n",
       "0  88b8b52d46df026a9d1ad2136a59b30b             4                  NaN   \n",
       "1  02fc48a9efa3e3d0f1a8ea26507eeec3             5                  NaN   \n",
       "2  5ad6695d76ee186dc473c42706984d87             5                  NaN   \n",
       "3  059a801bb31f6aab2266e672cab87bc5             5                  NaN   \n",
       "4  8490879d58d6c5d7773f2739a03f089a             5        a melhor nota   \n",
       "\n",
       "                          review_comment_message  review_creation_date  \\\n",
       "0                                            NaN   2017-05-26 00:00:00   \n",
       "1                                            NaN   2018-01-30 00:00:00   \n",
       "2                                            NaN   2018-06-15 00:00:00   \n",
       "3                                            NaN   2018-03-29 00:00:00   \n",
       "4  O baratheon è esxelente Amo adoro o baratheon   2018-08-10 00:00:00   \n",
       "\n",
       "  review_answer_timestamp  number_of_items number_of_unique_items  \\\n",
       "0     2017-05-30 22:34:40                1                      1   \n",
       "1     2018-02-10 22:43:29                1                      1   \n",
       "2     2018-06-15 12:10:59                1                      1   \n",
       "3     2018-04-02 18:36:47                1                      1   \n",
       "4     2018-08-17 01:59:52                1                      1   \n",
       "\n",
       "  sum_of_item_prices  \n",
       "0             124.99  \n",
       "1             289.00  \n",
       "2             139.94  \n",
       "3             149.94  \n",
       "4             230.00  \n",
       "\n",
       "[5 rows x 25 columns]"
      ]
     },
     "execution_count": 7,
     "metadata": {},
     "output_type": "execute_result"
    }
   ],
   "source": [
    "# Add number of order items and sum of items price per order\n",
    "\n",
    "df_grouped_orders = df_order_products.groupby('order_id', as_index=False).agg(\n",
    "    {'product_id' : ['count','nunique'], 'price' : 'sum'})\n",
    "df_grouped_orders.columns = ['order_id', 'number_of_items','number_of_unique_items','sum_of_item_prices']\n",
    "\n",
    "df_customer_orders = pd.merge(df_customer_orders,df_grouped_orders, how='inner', on='order_id')\n",
    "df_customer_orders.head()"
   ]
  },
  {
   "cell_type": "code",
   "execution_count": 8,
   "metadata": {},
   "outputs": [],
   "source": [
    "df_customer_orders.order_purchase_timestamp = pd.to_datetime(df_customer_orders.order_purchase_timestamp)\n",
    "\n",
    "df_first_orders = df_customer_orders.groupby('customer_unique_id', as_index = False).agg(\n",
    "                        {'order_purchase_timestamp':'min'})\n",
    "df_first_orders.columns = ['customer_unique_id','first_purchase_timestamp']\n",
    "\n",
    "df_customer_orders = pd.merge(df_customer_orders,df_first_orders,how='inner',on='customer_unique_id')"
   ]
  },
  {
   "cell_type": "code",
   "execution_count": 9,
   "metadata": {},
   "outputs": [],
   "source": [
    "df_customer_orders['days_since_first_purchase'] = ((df_customer_orders['order_purchase_timestamp'].dt.date\n",
    "                                                   - df_customer_orders['first_purchase_timestamp'].dt.date)/np.timedelta64(1,'D')).astype(int)"
   ]
  },
  {
   "cell_type": "code",
   "execution_count": 10,
   "metadata": {},
   "outputs": [],
   "source": [
    "# Orders dataset in order to find last order previous than current order\n",
    "df_customer_orders = df_customer_orders.sort_values(by=['customer_unique_id','order_purchase_timestamp'])\n",
    "df_customer_orders.reset_index(drop=True, inplace=True)"
   ]
  },
  {
   "cell_type": "code",
   "execution_count": 11,
   "metadata": {},
   "outputs": [],
   "source": [
    "# Searches dataset for last purchase date per customer\n",
    "df_customer_orders.loc[df_customer_orders['days_since_first_purchase'] == 0,'last_purchase_timestamp'] = pd.to_datetime(np.nan)\n",
    "\n",
    "for idx in df_customer_orders[df_customer_orders['days_since_first_purchase'] > 0].index:\n",
    "    df_customer_orders.loc[idx, 'last_purchase_timestamp'] = df_customer_orders.loc[idx-1,'order_purchase_timestamp']"
   ]
  },
  {
   "cell_type": "code",
   "execution_count": 12,
   "metadata": {},
   "outputs": [],
   "source": [
    "# Calculates number of days since last purchase per customer\n",
    "df_customer_orders.loc[df_customer_orders['days_since_first_purchase'] == 0,'days_since_last_purchase'] = 0\n",
    "df_customer_orders.loc[df_customer_orders['days_since_first_purchase'] > 0,'days_since_last_purchase'] = ((df_customer_orders.loc[df_customer_orders['days_since_first_purchase'] > 0,'order_purchase_timestamp'].dt.date\n",
    "                                                   - df_customer_orders.loc[df_customer_orders['days_since_first_purchase'] > 0,'last_purchase_timestamp'].dt.date)/np.timedelta64(1,'D')).astype(int)"
   ]
  },
  {
   "cell_type": "code",
   "execution_count": 14,
   "metadata": {},
   "outputs": [
    {
     "data": {
      "text/html": [
       "<div>\n",
       "<style scoped>\n",
       "    .dataframe tbody tr th:only-of-type {\n",
       "        vertical-align: middle;\n",
       "    }\n",
       "\n",
       "    .dataframe tbody tr th {\n",
       "        vertical-align: top;\n",
       "    }\n",
       "\n",
       "    .dataframe thead th {\n",
       "        text-align: right;\n",
       "    }\n",
       "</style>\n",
       "<table border=\"1\" class=\"dataframe\">\n",
       "  <thead>\n",
       "    <tr style=\"text-align: right;\">\n",
       "      <th></th>\n",
       "      <th>count</th>\n",
       "      <th>mean</th>\n",
       "      <th>std</th>\n",
       "      <th>min</th>\n",
       "      <th>25%</th>\n",
       "      <th>50%</th>\n",
       "      <th>75%</th>\n",
       "      <th>max</th>\n",
       "    </tr>\n",
       "  </thead>\n",
       "  <tbody>\n",
       "    <tr>\n",
       "      <th>customer_zip_code_prefix</th>\n",
       "      <td>103652.0</td>\n",
       "      <td>35091.929919</td>\n",
       "      <td>29747.183499</td>\n",
       "      <td>1003.00</td>\n",
       "      <td>11370.00</td>\n",
       "      <td>24370.00</td>\n",
       "      <td>58430.00</td>\n",
       "      <td>99990.00</td>\n",
       "    </tr>\n",
       "    <tr>\n",
       "      <th>payment_sequential</th>\n",
       "      <td>103652.0</td>\n",
       "      <td>1.092598</td>\n",
       "      <td>0.707255</td>\n",
       "      <td>1.00</td>\n",
       "      <td>1.00</td>\n",
       "      <td>1.00</td>\n",
       "      <td>1.00</td>\n",
       "      <td>29.00</td>\n",
       "    </tr>\n",
       "    <tr>\n",
       "      <th>payment_installments</th>\n",
       "      <td>103652.0</td>\n",
       "      <td>2.858314</td>\n",
       "      <td>2.689642</td>\n",
       "      <td>0.00</td>\n",
       "      <td>1.00</td>\n",
       "      <td>1.00</td>\n",
       "      <td>4.00</td>\n",
       "      <td>24.00</td>\n",
       "    </tr>\n",
       "    <tr>\n",
       "      <th>payment_value</th>\n",
       "      <td>103652.0</td>\n",
       "      <td>153.591295</td>\n",
       "      <td>215.698844</td>\n",
       "      <td>0.00</td>\n",
       "      <td>56.78</td>\n",
       "      <td>100.00</td>\n",
       "      <td>171.61</td>\n",
       "      <td>13664.08</td>\n",
       "    </tr>\n",
       "    <tr>\n",
       "      <th>review_score</th>\n",
       "      <td>103652.0</td>\n",
       "      <td>4.087205</td>\n",
       "      <td>1.345213</td>\n",
       "      <td>1.00</td>\n",
       "      <td>4.00</td>\n",
       "      <td>5.00</td>\n",
       "      <td>5.00</td>\n",
       "      <td>5.00</td>\n",
       "    </tr>\n",
       "    <tr>\n",
       "      <th>number_of_items</th>\n",
       "      <td>103652.0</td>\n",
       "      <td>1.141464</td>\n",
       "      <td>0.535858</td>\n",
       "      <td>1.00</td>\n",
       "      <td>1.00</td>\n",
       "      <td>1.00</td>\n",
       "      <td>1.00</td>\n",
       "      <td>21.00</td>\n",
       "    </tr>\n",
       "    <tr>\n",
       "      <th>number_of_unique_items</th>\n",
       "      <td>103652.0</td>\n",
       "      <td>1.038822</td>\n",
       "      <td>0.228752</td>\n",
       "      <td>1.00</td>\n",
       "      <td>1.00</td>\n",
       "      <td>1.00</td>\n",
       "      <td>1.00</td>\n",
       "      <td>8.00</td>\n",
       "    </tr>\n",
       "    <tr>\n",
       "      <th>sum_of_item_prices</th>\n",
       "      <td>103652.0</td>\n",
       "      <td>137.718773</td>\n",
       "      <td>210.744537</td>\n",
       "      <td>0.85</td>\n",
       "      <td>45.90</td>\n",
       "      <td>85.99</td>\n",
       "      <td>149.90</td>\n",
       "      <td>13440.00</td>\n",
       "    </tr>\n",
       "    <tr>\n",
       "      <th>days_since_first_purchase</th>\n",
       "      <td>103652.0</td>\n",
       "      <td>2.910614</td>\n",
       "      <td>26.027842</td>\n",
       "      <td>0.00</td>\n",
       "      <td>0.00</td>\n",
       "      <td>0.00</td>\n",
       "      <td>0.00</td>\n",
       "      <td>633.00</td>\n",
       "    </tr>\n",
       "    <tr>\n",
       "      <th>days_since_last_purchase</th>\n",
       "      <td>103652.0</td>\n",
       "      <td>2.470276</td>\n",
       "      <td>23.481828</td>\n",
       "      <td>0.00</td>\n",
       "      <td>0.00</td>\n",
       "      <td>0.00</td>\n",
       "      <td>0.00</td>\n",
       "      <td>609.00</td>\n",
       "    </tr>\n",
       "  </tbody>\n",
       "</table>\n",
       "</div>"
      ],
      "text/plain": [
       "                              count          mean           std      min  \\\n",
       "customer_zip_code_prefix   103652.0  35091.929919  29747.183499  1003.00   \n",
       "payment_sequential         103652.0      1.092598      0.707255     1.00   \n",
       "payment_installments       103652.0      2.858314      2.689642     0.00   \n",
       "payment_value              103652.0    153.591295    215.698844     0.00   \n",
       "review_score               103652.0      4.087205      1.345213     1.00   \n",
       "number_of_items            103652.0      1.141464      0.535858     1.00   \n",
       "number_of_unique_items     103652.0      1.038822      0.228752     1.00   \n",
       "sum_of_item_prices         103652.0    137.718773    210.744537     0.85   \n",
       "days_since_first_purchase  103652.0      2.910614     26.027842     0.00   \n",
       "days_since_last_purchase   103652.0      2.470276     23.481828     0.00   \n",
       "\n",
       "                                25%       50%       75%       max  \n",
       "customer_zip_code_prefix   11370.00  24370.00  58430.00  99990.00  \n",
       "payment_sequential             1.00      1.00      1.00     29.00  \n",
       "payment_installments           1.00      1.00      4.00     24.00  \n",
       "payment_value                 56.78    100.00    171.61  13664.08  \n",
       "review_score                   4.00      5.00      5.00      5.00  \n",
       "number_of_items                1.00      1.00      1.00     21.00  \n",
       "number_of_unique_items         1.00      1.00      1.00      8.00  \n",
       "sum_of_item_prices            45.90     85.99    149.90  13440.00  \n",
       "days_since_first_purchase      0.00      0.00      0.00    633.00  \n",
       "days_since_last_purchase       0.00      0.00      0.00    609.00  "
      ]
     },
     "execution_count": 14,
     "metadata": {},
     "output_type": "execute_result"
    }
   ],
   "source": [
    "# Filter only interesting features"
   ]
  },
  {
   "cell_type": "code",
   "execution_count": 34,
   "metadata": {},
   "outputs": [
    {
     "data": {
      "text/plain": [
       "(array([1.01257e+05, 1.92300e+03, 4.11000e+02, 3.50000e+01]),\n",
       " array([1, 3, 5, 7, 9]),\n",
       " <a list of 4 Patch objects>)"
      ]
     },
     "execution_count": 34,
     "metadata": {},
     "output_type": "execute_result"
    },
    {
     "data": {
      "image/png": "[encoded data removed]",
      "text/plain": [
       "<Figure size 432x288 with 1 Axes>"
      ]
     },
     "metadata": {
      "needs_background": "light"
     },
     "output_type": "display_data"
    }
   ],
   "source": [
    "plt.hist(df_customer_orders.number_of_items, bins = list(np.arange(1,10,2)))"
   ]
  },
  {
   "cell_type": "code",
   "execution_count": 35,
   "metadata": {},
   "outputs": [
    {
     "data": {
      "text/plain": [
       "(array([1.03237e+05, 3.90000e+02, 2.10000e+01, 4.00000e+00]),\n",
       " array([1, 3, 5, 7, 9]),\n",
       " <a list of 4 Patch objects>)"
      ]
     },
     "execution_count": 35,
     "metadata": {},
     "output_type": "execute_result"
    },
    {
     "data": {
      "image/png": "[encoded data removed]",
      "text/plain": [
       "<Figure size 432x288 with 1 Axes>"
      ]
     },
     "metadata": {
      "needs_background": "light"
     },
     "output_type": "display_data"
    }
   ],
   "source": [
    "plt.hist(df_customer_orders.number_of_unique_items, bins = list(np.arange(1,10,2)))"
   ]
  },
  {
   "cell_type": "code",
   "execution_count": 39,
   "metadata": {},
   "outputs": [
    {
     "data": {
      "text/plain": [
       "(array([1.473e+03, 1.461e+03, 4.172e+03, 6.861e+03, 7.105e+03, 6.996e+03,\n",
       "        7.209e+03, 6.244e+03, 5.409e+03, 4.858e+03, 4.848e+03, 4.525e+03,\n",
       "        3.550e+03, 3.730e+03, 3.184e+03, 2.846e+03, 2.907e+03, 2.330e+03,\n",
       "        2.006e+03, 1.892e+03, 1.596e+03, 1.589e+03, 1.248e+03, 1.134e+03,\n",
       "        9.290e+02, 8.480e+02, 7.590e+02, 6.470e+02, 5.900e+02, 5.330e+02,\n",
       "        5.200e+02, 6.490e+02, 4.700e+02, 4.080e+02, 4.240e+02, 3.880e+02,\n",
       "        4.160e+02, 3.310e+02, 2.850e+02, 2.450e+02, 2.260e+02, 3.150e+02,\n",
       "        2.120e+02, 1.790e+02, 1.660e+02, 1.740e+02, 1.640e+02, 1.580e+02,\n",
       "        1.220e+02, 1.060e+02, 1.160e+02, 1.550e+02, 1.200e+02, 9.000e+01,\n",
       "        1.070e+02, 1.090e+02, 9.600e+01, 9.500e+01, 5.700e+01, 9.700e+01,\n",
       "        1.140e+02, 1.260e+02, 1.030e+02, 8.600e+01, 7.700e+01, 6.500e+01,\n",
       "        7.900e+01, 8.600e+01, 6.700e+01, 5.800e+01, 5.400e+01, 7.500e+01,\n",
       "        6.500e+01, 5.100e+01, 4.700e+01, 5.200e+01, 4.700e+01, 4.200e+01,\n",
       "        4.700e+01, 3.200e+01, 3.500e+01, 7.100e+01, 5.200e+01, 3.900e+01,\n",
       "        3.700e+01, 3.500e+01, 4.400e+01, 4.400e+01, 3.700e+01, 2.200e+01,\n",
       "        2.900e+01, 5.100e+01, 4.600e+01, 2.300e+01, 1.400e+01, 2.000e+01,\n",
       "        1.900e+01, 2.100e+01, 2.000e+01, 1.500e+01, 2.400e+01, 3.000e+01,\n",
       "        3.000e+01, 2.700e+01, 2.500e+01, 1.500e+01, 1.100e+01, 2.100e+01,\n",
       "        1.400e+01, 1.600e+01, 9.000e+00, 1.900e+01, 2.600e+01, 1.500e+01,\n",
       "        1.700e+01, 1.400e+01, 1.300e+01, 1.100e+01, 5.000e+00, 9.000e+00,\n",
       "        1.000e+01, 7.000e+00, 3.800e+01, 1.800e+01, 1.800e+01, 1.700e+01,\n",
       "        7.000e+00, 7.000e+00, 8.000e+00, 9.000e+00, 7.000e+00, 1.500e+01,\n",
       "        1.600e+01, 1.500e+01, 1.600e+01, 1.700e+01, 7.000e+00, 1.300e+01,\n",
       "        8.000e+00, 1.200e+01, 7.000e+00, 1.000e+01, 1.600e+01, 1.200e+01,\n",
       "        5.000e+00, 2.000e+00, 3.000e+00, 1.800e+01, 8.000e+00, 4.000e+00,\n",
       "        6.000e+00, 3.000e+00, 9.000e+00, 6.000e+00, 4.000e+00, 4.000e+00,\n",
       "        2.000e+00, 3.000e+00, 4.000e+00, 1.000e+00, 5.000e+00, 2.000e+00,\n",
       "        9.000e+00, 6.000e+00, 1.000e+01, 1.300e+01, 2.000e+00, 6.000e+00,\n",
       "        4.000e+00, 6.000e+00, 1.000e+00, 5.000e+00, 5.000e+00, 6.000e+00,\n",
       "        1.000e+00, 5.000e+00, 3.000e+00, 2.000e+00, 6.000e+00, 3.000e+00,\n",
       "        4.000e+00, 8.000e+00, 6.000e+00, 6.000e+00, 3.000e+00, 2.000e+00,\n",
       "        4.000e+00, 5.000e+00, 0.000e+00, 4.000e+00, 2.000e+00, 4.000e+00,\n",
       "        2.000e+00, 6.000e+00, 3.000e+00, 2.000e+00, 6.000e+00, 2.000e+00,\n",
       "        5.000e+00]),\n",
       " array([   0,   10,   20,   30,   40,   50,   60,   70,   80,   90,  100,\n",
       "         110,  120,  130,  140,  150,  160,  170,  180,  190,  200,  210,\n",
       "         220,  230,  240,  250,  260,  270,  280,  290,  300,  310,  320,\n",
       "         330,  340,  350,  360,  370,  380,  390,  400,  410,  420,  430,\n",
       "         440,  450,  460,  470,  480,  490,  500,  510,  520,  530,  540,\n",
       "         550,  560,  570,  580,  590,  600,  610,  620,  630,  640,  650,\n",
       "         660,  670,  680,  690,  700,  710,  720,  730,  740,  750,  760,\n",
       "         770,  780,  790,  800,  810,  820,  830,  840,  850,  860,  870,\n",
       "         880,  890,  900,  910,  920,  930,  940,  950,  960,  970,  980,\n",
       "         990, 1000, 1010, 1020, 1030, 1040, 1050, 1060, 1070, 1080, 1090,\n",
       "        1100, 1110, 1120, 1130, 1140, 1150, 1160, 1170, 1180, 1190, 1200,\n",
       "        1210, 1220, 1230, 1240, 1250, 1260, 1270, 1280, 1290, 1300, 1310,\n",
       "        1320, 1330, 1340, 1350, 1360, 1370, 1380, 1390, 1400, 1410, 1420,\n",
       "        1430, 1440, 1450, 1460, 1470, 1480, 1490, 1500, 1510, 1520, 1530,\n",
       "        1540, 1550, 1560, 1570, 1580, 1590, 1600, 1610, 1620, 1630, 1640,\n",
       "        1650, 1660, 1670, 1680, 1690, 1700, 1710, 1720, 1730, 1740, 1750,\n",
       "        1760, 1770, 1780, 1790, 1800, 1810, 1820, 1830, 1840, 1850, 1860,\n",
       "        1870, 1880, 1890, 1900, 1910, 1920, 1930, 1940, 1950, 1960, 1970,\n",
       "        1980, 1990]),\n",
       " <a list of 199 Patch objects>)"
      ]
     },
     "execution_count": 39,
     "metadata": {},
     "output_type": "execute_result"
    },
    {
     "data": {
      "image/png": "[encoded data removed]",
      "text/plain": [
       "<Figure size 432x288 with 1 Axes>"
      ]
     },
     "metadata": {
      "needs_background": "light"
     },
     "output_type": "display_data"
    }
   ],
   "source": [
    "plt.hist(df_customer_orders.payment_value, bins = list(np.arange(0,2000,10)))"
   ]
  },
  {
   "cell_type": "code",
   "execution_count": null,
   "metadata": {},
   "outputs": [],
   "source": []
  }
 ],
 "metadata": {
  "kernelspec": {
   "display_name": "Python 3",
   "language": "python",
   "name": "python3"
  },
  "language_info": {
   "codemirror_mode": {
    "name": "ipython",
    "version": 3
   },
   "file_extension": ".py",
   "mimetype": "text/x-python",
   "name": "python",
   "nbconvert_exporter": "python",
   "pygments_lexer": "ipython3",
   "version": "3.8.3"
  }
 },
 "nbformat": 4,
 "nbformat_minor": 4
}
