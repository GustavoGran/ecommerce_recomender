{
  "nbformat": 4,
  "nbformat_minor": 0,
  "metadata": {
    "colab": {
      "name": "ptc3467_caracterizacao_dados_ecommerce.ipynb",
      "provenance": [],
      "collapsed_sections": [],
      "authorship_tag": "ABX9TyPTtEjkw2jPCVGgtUDMfRzM",
      "include_colab_link": true
    },
    "kernelspec": {
      "name": "python3",
      "display_name": "Python 3"
    }
  },
  "cells": [
    {
      "cell_type": "markdown",
      "metadata": {
        "id": "view-in-github",
        "colab_type": "text"
      },
      "source": [
        "<a href=\"https://colab.research.google.com/github/GustavoGran/ecommerce_recomender/blob/main/ptc3467_caracterizacao_dados_ecommerce.ipynb\" target=\"_parent\"><img src=\"https://colab.research.google.com/assets/colab-badge.svg\" alt=\"Open In Colab\"/></a>"
      ]
    },
    {
      "cell_type": "markdown",
      "metadata": {
        "id": "qqMhlj_pqc_Q"
      },
      "source": [
        "## **Importação de bibliotecas**"
      ]
    },
    {
      "cell_type": "code",
      "metadata": {
        "id": "OzkumzLMqKo9"
      },
      "source": [
        "import pandas as pd\n",
        "import numpy  as np\n",
        "import matplotlib.pyplot as plt\n",
        "import seaborn as sns"
      ],
      "execution_count": 6,
      "outputs": []
    },
    {
      "cell_type": "markdown",
      "metadata": {
        "id": "rqUR-4GeqkIm"
      },
      "source": [
        "## **Importação dos datasets**"
      ]
    },
    {
      "cell_type": "code",
      "metadata": {
        "id": "SkeSn0V2sXhX",
        "outputId": "387f074f-1883-4c40-87fd-50a94bd7cb41",
        "colab": {
          "base_uri": "https://localhost:8080/",
          "height": 51
        }
      },
      "source": [
        "from google.colab import drive\n",
        "drive.mount('/content/drive')\n",
        "%cd \"/content/drive/My Drive/Colab Notebooks/datasets/olist_ecommerce\""
      ],
      "execution_count": 7,
      "outputs": [
        {
          "output_type": "stream",
          "text": [
            "Drive already mounted at /content/drive; to attempt to forcibly remount, call drive.mount(\"/content/drive\", force_remount=True).\n",
            "/content/drive/My Drive/Colab Notebooks/datasets/olist_ecommerce\n"
          ],
          "name": "stdout"
        }
      ]
    },
    {
      "cell_type": "code",
      "metadata": {
        "id": "zJ9qkHL7tgig"
      },
      "source": [
        "customers_file_name = 'olist_customers_dataset.csv'\n",
        "orders_file_name = 'olist_orders_dataset.csv'\n",
        "geolocation_file_name = 'olist_geolocation_dataset.csv'\n",
        "products_file_name = 'olist_products_dataset.csv'\n",
        "order_items_file_name = 'olist_order_items_dataset.csv'\n",
        "sellers_file_name = 'olist_sellers_dataset.csv'\n",
        "order_payments_file_name = 'olist_order_payments_dataset.csv'\n",
        "product_translation_file_name = 'product_category_name_translation.csv'\n",
        "order_reviews_file_name = 'olist_order_reviews_dataset.csv'"
      ],
      "execution_count": 8,
      "outputs": []
    },
    {
      "cell_type": "code",
      "metadata": {
        "id": "x_NiIy2rtrkB"
      },
      "source": [
        "df_customers = pd.read_csv(customers_file_name,sep=',')\n",
        "df_orders = pd.read_csv(orders_file_name,sep=',')\n",
        "df_geolocation = pd.read_csv(geolocation_file_name,sep=',')\n",
        "df_products = pd.read_csv(products_file_name,sep=',')\n",
        "df_order_items = pd.read_csv(order_items_file_name,sep=',')\n",
        "df_sellers = pd.read_csv(sellers_file_name,sep=',')\n",
        "df_order_payments = pd.read_csv(order_payments_file_name,sep=',')\n",
        "df_order_reviews = pd.read_csv(order_reviews_file_name,sep=',')"
      ],
      "execution_count": 9,
      "outputs": []
    },
    {
      "cell_type": "markdown",
      "metadata": {
        "id": "Kh2DcOcVinil"
      },
      "source": [
        "# **Entendendo a origem dos clientes do e-commerce**"
      ]
    },
    {
      "cell_type": "code",
      "metadata": {
        "id": "d1ZUezG5vMng",
        "outputId": "cb17f242-5325-4e64-dc5b-7381d620dfbc",
        "colab": {
          "base_uri": "https://localhost:8080/",
          "height": 398
        }
      },
      "source": [
        "customer_states = df_customers.groupby('customer_state')\n",
        "unique_customers_by_state = customer_states.customer_unique_id.nunique().sort_values(ascending=False).to_frame()\n",
        "\n",
        "unique_customers_by_state['customer_state'] = unique_customers_by_state.index\n",
        "unique_customers_by_state['perc_total_customers'] = unique_customers_by_state.customer_unique_id *(100 / df_customers.customer_unique_id.nunique())\n",
        "\n",
        "f, ax = plt.subplots(figsize=(10,6))\n",
        "sns.set_color_codes(\"dark\")\n",
        "\n",
        "splot = sns.barplot(x=\"perc_total_customers\", y=\"customer_state\", data=unique_customers_by_state.head(5), color=\"b\")\n",
        "\n",
        "# Add annotations of values\n",
        "for p in ax.patches:\n",
        "    ax.annotate(\"%.f\" % p.get_width(), xy=(p.get_width(), p.get_y()+p.get_height()/2),\n",
        "            xytext=(5, 0), textcoords='offset points', ha=\"left\", va=\"center\", size = 16)\n",
        "\n",
        "# Add a legend and informative axis label\n",
        "\n",
        "ax.set(xlim=(0, max(unique_customers_by_state['perc_total_customers'])), \n",
        "       xlabel='', ylabel='', xticklabels=[])\n",
        "\n",
        "ax.set_title(\"% dos clientes únicos do e-commerce nos 5 estados \\nmais relevantes\",\n",
        "             size=18,fontweight=\"bold\",loc = 'left')\n",
        "ax.grid(False)\n",
        "sns.despine(offset=10, trim=True, left=True, bottom=True);\n",
        "plt.show()"
      ],
      "execution_count": 10,
      "outputs": [
        {
          "output_type": "display_data",
          "data": {
            "image/png": "[encoded data removed]",
            "text/plain": [
              "<Figure size 720x432 with 1 Axes>"
            ]
          },
          "metadata": {
            "tags": [],
            "needs_background": "light"
          }
        }
      ]
    },
    {
      "cell_type": "markdown",
      "metadata": {
        "id": "gTscssN6i5c0"
      },
      "source": [
        "# **Integração dos dados**\n",
        "* **df_customer_orders:** agrupará informações de clientes, dados gerais das compras e avaliações dos clientes\n",
        "* **df_order_products:** agrupará informações de produtos por compra e informações gerais do produto"
      ]
    },
    {
      "cell_type": "code",
      "metadata": {
        "id": "yvKBXNDuvQWZ"
      },
      "source": [
        "# Selects only the most recent review for each order\n",
        "df_latest_order_reviews = df_order_reviews.groupby('order_id', as_index=False).agg({'review_answer_timestamp' : 'first'})\n",
        "df_order_reviews = pd.merge(left=df_order_reviews[['order_id','review_answer_timestamp','review_score']], \n",
        "                            right= df_latest_order_reviews, on=['order_id','review_answer_timestamp'], how='inner')\n",
        "\n",
        "customer_cols = ['customer_id','customer_unique_id', 'customer_state']\n",
        "order_cols = ['customer_id','order_id','order_purchase_timestamp']\n",
        "review_cols = ['order_id','review_score']\n",
        "\n",
        "df_customer_orders = pd.merge(\n",
        "    pd.merge(df_customers[customer_cols], df_orders[order_cols], how='inner', on=\"customer_id\", validate=\"one_to_one\"),\n",
        "    df_order_reviews[review_cols],\n",
        "    how='inner', on=\"order_id\",validate=\"one_to_one\")\n",
        "\n",
        "df_order_products = pd.merge(df_order_items,df_products,how='inner',on='product_id')"
      ],
      "execution_count": 11,
      "outputs": []
    },
    {
      "cell_type": "code",
      "metadata": {
        "id": "116ZwDnbwYqD",
        "outputId": "90e113be-2cad-40a7-c041-3d8bec001dea",
        "colab": {
          "base_uri": "https://localhost:8080/",
          "height": 224
        }
      },
      "source": [
        "# Add number of order items and sum of items price per order\n",
        "\n",
        "df_grouped_orders = df_order_products.groupby('order_id', as_index=False).agg(\n",
        "    {'product_id' : ['count','nunique'], 'price' : 'sum'})\n",
        "df_grouped_orders.columns = ['order_id', 'number_of_items','number_of_unique_items','sum_of_item_prices']\n",
        "\n",
        "df_customer_orders = pd.merge(df_customer_orders,df_grouped_orders, how='inner', on='order_id', validate=\"one_to_one\")\n",
        "df_customer_orders.head()"
      ],
      "execution_count": 12,
      "outputs": [
        {
          "output_type": "execute_result",
          "data": {
            "text/html": [
              "<div>\n",
              "<style scoped>\n",
              "    .dataframe tbody tr th:only-of-type {\n",
              "        vertical-align: middle;\n",
              "    }\n",
              "\n",
              "    .dataframe tbody tr th {\n",
              "        vertical-align: top;\n",
              "    }\n",
              "\n",
              "    .dataframe thead th {\n",
              "        text-align: right;\n",
              "    }\n",
              "</style>\n",
              "<table border=\"1\" class=\"dataframe\">\n",
              "  <thead>\n",
              "    <tr style=\"text-align: right;\">\n",
              "      <th></th>\n",
              "      <th>customer_id</th>\n",
              "      <th>customer_unique_id</th>\n",
              "      <th>customer_state</th>\n",
              "      <th>order_id</th>\n",
              "      <th>order_purchase_timestamp</th>\n",
              "      <th>review_score</th>\n",
              "      <th>number_of_items</th>\n",
              "      <th>number_of_unique_items</th>\n",
              "      <th>sum_of_item_prices</th>\n",
              "    </tr>\n",
              "  </thead>\n",
              "  <tbody>\n",
              "    <tr>\n",
              "      <th>0</th>\n",
              "      <td>06b8999e2fba1a1fbc88172c00ba8bc7</td>\n",
              "      <td>861eff4711a542e4b93843c6dd7febb0</td>\n",
              "      <td>SP</td>\n",
              "      <td>00e7ee1b050b8499577073aeb2a297a1</td>\n",
              "      <td>2017-05-16 15:05:35</td>\n",
              "      <td>4</td>\n",
              "      <td>1</td>\n",
              "      <td>1</td>\n",
              "      <td>124.99</td>\n",
              "    </tr>\n",
              "    <tr>\n",
              "      <th>1</th>\n",
              "      <td>18955e83d337fd6b2def6b18a428ac77</td>\n",
              "      <td>290c77bc529b7ac935b93aa66c333dc3</td>\n",
              "      <td>SP</td>\n",
              "      <td>29150127e6685892b6eab3eec79f59c7</td>\n",
              "      <td>2018-01-12 20:48:24</td>\n",
              "      <td>5</td>\n",
              "      <td>1</td>\n",
              "      <td>1</td>\n",
              "      <td>289.00</td>\n",
              "    </tr>\n",
              "    <tr>\n",
              "      <th>2</th>\n",
              "      <td>4e7b3e00288586ebd08712fdd0374a03</td>\n",
              "      <td>060e732b5b29e8181a18229c7b0b2b5e</td>\n",
              "      <td>SP</td>\n",
              "      <td>b2059ed67ce144a36e2aa97d2c9e9ad2</td>\n",
              "      <td>2018-05-19 16:07:45</td>\n",
              "      <td>5</td>\n",
              "      <td>1</td>\n",
              "      <td>1</td>\n",
              "      <td>139.94</td>\n",
              "    </tr>\n",
              "    <tr>\n",
              "      <th>3</th>\n",
              "      <td>b2b6027bc5c5109e529d4dc6358b12c3</td>\n",
              "      <td>259dac757896d24d7702b9acbbff3f3c</td>\n",
              "      <td>SP</td>\n",
              "      <td>951670f92359f4fe4a63112aa7306eba</td>\n",
              "      <td>2018-03-13 16:06:38</td>\n",
              "      <td>5</td>\n",
              "      <td>1</td>\n",
              "      <td>1</td>\n",
              "      <td>149.94</td>\n",
              "    </tr>\n",
              "    <tr>\n",
              "      <th>4</th>\n",
              "      <td>4f2d8ab171c80ec8364f7c12e35b23ad</td>\n",
              "      <td>345ecd01c38d18a9036ed96c73b8d066</td>\n",
              "      <td>SP</td>\n",
              "      <td>6b7d50bd145f6fc7f33cebabd7e49d0f</td>\n",
              "      <td>2018-07-29 09:51:30</td>\n",
              "      <td>5</td>\n",
              "      <td>1</td>\n",
              "      <td>1</td>\n",
              "      <td>230.00</td>\n",
              "    </tr>\n",
              "  </tbody>\n",
              "</table>\n",
              "</div>"
            ],
            "text/plain": [
              "                        customer_id  ... sum_of_item_prices\n",
              "0  06b8999e2fba1a1fbc88172c00ba8bc7  ...             124.99\n",
              "1  18955e83d337fd6b2def6b18a428ac77  ...             289.00\n",
              "2  4e7b3e00288586ebd08712fdd0374a03  ...             139.94\n",
              "3  b2b6027bc5c5109e529d4dc6358b12c3  ...             149.94\n",
              "4  4f2d8ab171c80ec8364f7c12e35b23ad  ...             230.00\n",
              "\n",
              "[5 rows x 9 columns]"
            ]
          },
          "metadata": {
            "tags": []
          },
          "execution_count": 12
        }
      ]
    },
    {
      "cell_type": "code",
      "metadata": {
        "id": "5A0793edB2us"
      },
      "source": [
        "df_customer_orders.order_purchase_timestamp = pd.to_datetime(df_customer_orders.order_purchase_timestamp)\n",
        "\n",
        "df_first_orders = df_customer_orders.groupby('customer_unique_id', as_index = False).agg(\n",
        "                        {'order_purchase_timestamp':'min'})\n",
        "df_first_orders.columns = ['customer_unique_id','first_purchase_timestamp']\n",
        "\n",
        "df_customer_orders = pd.merge(df_customer_orders,df_first_orders,how='inner',on='customer_unique_id')"
      ],
      "execution_count": 13,
      "outputs": []
    },
    {
      "cell_type": "code",
      "metadata": {
        "id": "4xrsv08iCF8T"
      },
      "source": [
        "df_customer_orders['days_since_first_purchase'] = ((df_customer_orders['order_purchase_timestamp'].dt.date\n",
        "                                                   - df_customer_orders['first_purchase_timestamp'].dt.date)/np.timedelta64(1,'D')).astype(int)"
      ],
      "execution_count": 14,
      "outputs": []
    },
    {
      "cell_type": "code",
      "metadata": {
        "id": "8KG8xoGajHwH"
      },
      "source": [
        "# Orders dataset in order to find last order previous than current order\n",
        "df_customer_orders = df_customer_orders.sort_values(by=['customer_unique_id','order_purchase_timestamp'])\n",
        "df_customer_orders.reset_index(drop=True, inplace=True)"
      ],
      "execution_count": 15,
      "outputs": []
    },
    {
      "cell_type": "code",
      "metadata": {
        "id": "9w4uy8JXjIR4"
      },
      "source": [
        "# Searches dataset for last purchase date per customer\n",
        "df_customer_orders.loc[df_customer_orders['days_since_first_purchase'] == 0,'last_purchase_timestamp'] = pd.to_datetime(np.nan)\n",
        "\n",
        "for idx in df_customer_orders[df_customer_orders['days_since_first_purchase'] > 0].index:\n",
        "    df_customer_orders.loc[idx, 'last_purchase_timestamp'] = df_customer_orders.loc[idx-1,'order_purchase_timestamp']"
      ],
      "execution_count": 16,
      "outputs": []
    },
    {
      "cell_type": "code",
      "metadata": {
        "id": "mYsue48qjIfZ"
      },
      "source": [
        "# Calculates number of days since last purchase per customer\n",
        "df_customer_orders.loc[df_customer_orders['days_since_first_purchase'] == 0,'days_since_last_purchase'] = 0\n",
        "df_customer_orders.loc[df_customer_orders['days_since_first_purchase'] > 0,'days_since_last_purchase'] = ((df_customer_orders.loc[df_customer_orders['days_since_first_purchase'] > 0,'order_purchase_timestamp'].dt.date\n",
        "                                                   - df_customer_orders.loc[df_customer_orders['days_since_first_purchase'] > 0,'last_purchase_timestamp'].dt.date)/np.timedelta64(1,'D')).astype(int)"
      ],
      "execution_count": 17,
      "outputs": []
    },
    {
      "cell_type": "markdown",
      "metadata": {
        "id": "S4G1GDRtjP2M"
      },
      "source": [
        "# **Descrição de dados**"
      ]
    },
    {
      "cell_type": "code",
      "metadata": {
        "id": "9KROaYuHjIER",
        "outputId": "c55ba24b-5ba9-4bae-f108-68eaa491d8be",
        "colab": {
          "base_uri": "https://localhost:8080/",
          "height": 421
        }
      },
      "source": [
        "# Describing\n",
        "df_desc = df_customer_orders.describe().transpose()\n",
        "df_desc['interval'] = df_desc['max'] - df_desc['min']\n",
        "df_desc['IQR'] = df_desc['75%'] -  df_desc['25%']\n",
        "df_desc['Lim_inf_outlier'] = df_desc['25%'] - 1.5 * df_desc['IQR']\n",
        "df_desc['Lim_sup_outlier'] = df_desc['75%'] + 1.5 * df_desc['IQR']\n",
        "df_desc.transpose()"
      ],
      "execution_count": 33,
      "outputs": [
        {
          "output_type": "execute_result",
          "data": {
            "text/html": [
              "<div>\n",
              "<style scoped>\n",
              "    .dataframe tbody tr th:only-of-type {\n",
              "        vertical-align: middle;\n",
              "    }\n",
              "\n",
              "    .dataframe tbody tr th {\n",
              "        vertical-align: top;\n",
              "    }\n",
              "\n",
              "    .dataframe thead th {\n",
              "        text-align: right;\n",
              "    }\n",
              "</style>\n",
              "<table border=\"1\" class=\"dataframe\">\n",
              "  <thead>\n",
              "    <tr style=\"text-align: right;\">\n",
              "      <th></th>\n",
              "      <th>review_score</th>\n",
              "      <th>number_of_items</th>\n",
              "      <th>number_of_unique_items</th>\n",
              "      <th>sum_of_item_prices</th>\n",
              "      <th>days_since_first_purchase</th>\n",
              "      <th>days_since_last_purchase</th>\n",
              "    </tr>\n",
              "  </thead>\n",
              "  <tbody>\n",
              "    <tr>\n",
              "      <th>count</th>\n",
              "      <td>98666.000000</td>\n",
              "      <td>98666.000000</td>\n",
              "      <td>98666.000000</td>\n",
              "      <td>98666.000000</td>\n",
              "      <td>98666.000000</td>\n",
              "      <td>98666.000000</td>\n",
              "    </tr>\n",
              "    <tr>\n",
              "      <th>mean</th>\n",
              "      <td>4.089798</td>\n",
              "      <td>1.141731</td>\n",
              "      <td>1.038098</td>\n",
              "      <td>137.754076</td>\n",
              "      <td>2.894513</td>\n",
              "      <td>2.595109</td>\n",
              "    </tr>\n",
              "    <tr>\n",
              "      <th>std</th>\n",
              "      <td>1.343624</td>\n",
              "      <td>0.538452</td>\n",
              "      <td>0.226456</td>\n",
              "      <td>210.645145</td>\n",
              "      <td>26.095843</td>\n",
              "      <td>24.061107</td>\n",
              "    </tr>\n",
              "    <tr>\n",
              "      <th>min</th>\n",
              "      <td>1.000000</td>\n",
              "      <td>1.000000</td>\n",
              "      <td>1.000000</td>\n",
              "      <td>0.850000</td>\n",
              "      <td>0.000000</td>\n",
              "      <td>0.000000</td>\n",
              "    </tr>\n",
              "    <tr>\n",
              "      <th>25%</th>\n",
              "      <td>4.000000</td>\n",
              "      <td>1.000000</td>\n",
              "      <td>1.000000</td>\n",
              "      <td>45.900000</td>\n",
              "      <td>0.000000</td>\n",
              "      <td>0.000000</td>\n",
              "    </tr>\n",
              "    <tr>\n",
              "      <th>50%</th>\n",
              "      <td>5.000000</td>\n",
              "      <td>1.000000</td>\n",
              "      <td>1.000000</td>\n",
              "      <td>86.900000</td>\n",
              "      <td>0.000000</td>\n",
              "      <td>0.000000</td>\n",
              "    </tr>\n",
              "    <tr>\n",
              "      <th>75%</th>\n",
              "      <td>5.000000</td>\n",
              "      <td>1.000000</td>\n",
              "      <td>1.000000</td>\n",
              "      <td>149.900000</td>\n",
              "      <td>0.000000</td>\n",
              "      <td>0.000000</td>\n",
              "    </tr>\n",
              "    <tr>\n",
              "      <th>max</th>\n",
              "      <td>5.000000</td>\n",
              "      <td>21.000000</td>\n",
              "      <td>8.000000</td>\n",
              "      <td>13440.000000</td>\n",
              "      <td>633.000000</td>\n",
              "      <td>609.000000</td>\n",
              "    </tr>\n",
              "    <tr>\n",
              "      <th>interval</th>\n",
              "      <td>4.000000</td>\n",
              "      <td>20.000000</td>\n",
              "      <td>7.000000</td>\n",
              "      <td>13439.150000</td>\n",
              "      <td>633.000000</td>\n",
              "      <td>609.000000</td>\n",
              "    </tr>\n",
              "    <tr>\n",
              "      <th>IQR</th>\n",
              "      <td>1.000000</td>\n",
              "      <td>0.000000</td>\n",
              "      <td>0.000000</td>\n",
              "      <td>104.000000</td>\n",
              "      <td>0.000000</td>\n",
              "      <td>0.000000</td>\n",
              "    </tr>\n",
              "    <tr>\n",
              "      <th>Lim_inf_outlier</th>\n",
              "      <td>2.500000</td>\n",
              "      <td>1.000000</td>\n",
              "      <td>1.000000</td>\n",
              "      <td>-110.100000</td>\n",
              "      <td>0.000000</td>\n",
              "      <td>0.000000</td>\n",
              "    </tr>\n",
              "    <tr>\n",
              "      <th>Lim_sup_outlier</th>\n",
              "      <td>6.500000</td>\n",
              "      <td>1.000000</td>\n",
              "      <td>1.000000</td>\n",
              "      <td>305.900000</td>\n",
              "      <td>0.000000</td>\n",
              "      <td>0.000000</td>\n",
              "    </tr>\n",
              "  </tbody>\n",
              "</table>\n",
              "</div>"
            ],
            "text/plain": [
              "                 review_score  ...  days_since_last_purchase\n",
              "count            98666.000000  ...              98666.000000\n",
              "mean                 4.089798  ...                  2.595109\n",
              "std                  1.343624  ...                 24.061107\n",
              "min                  1.000000  ...                  0.000000\n",
              "25%                  4.000000  ...                  0.000000\n",
              "50%                  5.000000  ...                  0.000000\n",
              "75%                  5.000000  ...                  0.000000\n",
              "max                  5.000000  ...                609.000000\n",
              "interval             4.000000  ...                609.000000\n",
              "IQR                  1.000000  ...                  0.000000\n",
              "Lim_inf_outlier      2.500000  ...                  0.000000\n",
              "Lim_sup_outlier      6.500000  ...                  0.000000\n",
              "\n",
              "[12 rows x 6 columns]"
            ]
          },
          "metadata": {
            "tags": []
          },
          "execution_count": 33
        }
      ]
    },
    {
      "cell_type": "code",
      "metadata": {
        "id": "UdxdIPgwjHfl",
        "outputId": "0dfee4dd-7127-4872-f9a4-72c7dcec681f",
        "colab": {
          "base_uri": "https://localhost:8080/",
          "height": 297
        }
      },
      "source": [
        "sns.histplot(data=df_customer_orders, x='number_of_items', stat='count',binwidth=1,binrange=(1,8))"
      ],
      "execution_count": 34,
      "outputs": [
        {
          "output_type": "execute_result",
          "data": {
            "text/plain": [
              "<matplotlib.axes._subplots.AxesSubplot at 0x7fb5e96e7cf8>"
            ]
          },
          "metadata": {
            "tags": []
          },
          "execution_count": 34
        },
        {
          "output_type": "display_data",
          "data": {
            "image/png": "[encoded data removed]",
            "text/plain": [
              "<Figure size 432x288 with 1 Axes>"
            ]
          },
          "metadata": {
            "tags": [],
            "needs_background": "light"
          }
        }
      ]
    },
    {
      "cell_type": "code",
      "metadata": {
        "id": "DAR9-7D7kXFA",
        "outputId": "11c7df8b-ddc1-4dc6-b40f-c3e1cefd57c3",
        "colab": {
          "base_uri": "https://localhost:8080/",
          "height": 301
        }
      },
      "source": [
        "sns.histplot(data=df_customer_orders, x='number_of_unique_items', stat='count',binwidth=1,binrange=(1,8))"
      ],
      "execution_count": 35,
      "outputs": [
        {
          "output_type": "execute_result",
          "data": {
            "text/plain": [
              "<matplotlib.axes._subplots.AxesSubplot at 0x7fb5e9111668>"
            ]
          },
          "metadata": {
            "tags": []
          },
          "execution_count": 35
        },
        {
          "output_type": "display_data",
          "data": {
            "image/png": "[encoded data removed]",
            "text/plain": [
              "<Figure size 432x288 with 1 Axes>"
            ]
          },
          "metadata": {
            "tags": [],
            "needs_background": "light"
          }
        }
      ]
    },
    {
      "cell_type": "code",
      "metadata": {
        "id": "TjEgAJ_EmkHY",
        "outputId": "a7067e68-0707-4ff7-873d-2e00056c7f44",
        "colab": {
          "base_uri": "https://localhost:8080/",
          "height": 299
        }
      },
      "source": [
        "sns.histplot(data=df_customer_orders, x='sum_of_item_prices',binwidth=100.0,binrange=(0.0,2000.0))"
      ],
      "execution_count": 37,
      "outputs": [
        {
          "output_type": "execute_result",
          "data": {
            "text/plain": [
              "<matplotlib.axes._subplots.AxesSubplot at 0x7fb5e7e75f98>"
            ]
          },
          "metadata": {
            "tags": []
          },
          "execution_count": 37
        },
        {
          "output_type": "display_data",
          "data": {
            "image/png": "[encoded data removed]",
            "text/plain": [
              "<Figure size 432x288 with 1 Axes>"
            ]
          },
          "metadata": {
            "tags": [],
            "needs_background": "light"
          }
        }
      ]
    },
    {
      "cell_type": "code",
      "metadata": {
        "id": "gdrMYDOMmrgA"
      },
      "source": [
        ""
      ],
      "execution_count": null,
      "outputs": []
    }
  ]
}