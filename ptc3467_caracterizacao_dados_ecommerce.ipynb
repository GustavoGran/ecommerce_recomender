{
  "nbformat": 4,
  "nbformat_minor": 0,
  "metadata": {
    "colab": {
      "name": "ptc3467_caracterizacao_dados_ecommerce.ipynb",
      "provenance": [],
      "collapsed_sections": [],
      "authorship_tag": "ABX9TyMdg7/eucWPabloPootZD1a",
      "include_colab_link": true
    },
    "kernelspec": {
      "name": "python3",
      "display_name": "Python 3"
    }
  },
  "cells": [
    {
      "cell_type": "markdown",
      "metadata": {
        "id": "view-in-github",
        "colab_type": "text"
      },
      "source": [
        "<a href=\"https://colab.research.google.com/github/GustavoGran/ecommerce_recomender/blob/main/ptc3467_caracterizacao_dados_ecommerce.ipynb\" target=\"_parent\"><img src=\"https://colab.research.google.com/assets/colab-badge.svg\" alt=\"Open In Colab\"/></a>"
      ]
    },
    {
      "cell_type": "markdown",
      "metadata": {
        "id": "qqMhlj_pqc_Q"
      },
      "source": [
        "## **Importação de bibliotecas**"
      ]
    },
    {
      "cell_type": "code",
      "metadata": {
        "id": "OzkumzLMqKo9"
      },
      "source": [
        "import pandas as pd\n",
        "import numpy  as np\n",
        "import matplotlib.pyplot as plt\n",
        "import seaborn as sns"
      ],
      "execution_count": 55,
      "outputs": []
    },
    {
      "cell_type": "markdown",
      "metadata": {
        "id": "rqUR-4GeqkIm"
      },
      "source": [
        "## **Importação dos datasets**"
      ]
    },
    {
      "cell_type": "code",
      "metadata": {
        "id": "SkeSn0V2sXhX",
        "outputId": "eb8c8722-d249-42c7-fa36-313de4abd1b9",
        "colab": {
          "base_uri": "https://localhost:8080/",
          "height": 51
        }
      },
      "source": [
        "from google.colab import drive\n",
        "drive.mount('/content/drive')\n",
        "%cd \"/content/drive/My Drive/Colab Notebooks/datasets/olist_ecommerce\""
      ],
      "execution_count": 56,
      "outputs": [
        {
          "output_type": "stream",
          "text": [
            "Drive already mounted at /content/drive; to attempt to forcibly remount, call drive.mount(\"/content/drive\", force_remount=True).\n",
            "/content/drive/My Drive/Colab Notebooks/datasets/olist_ecommerce\n"
          ],
          "name": "stdout"
        }
      ]
    },
    {
      "cell_type": "code",
      "metadata": {
        "id": "zJ9qkHL7tgig"
      },
      "source": [
        "customers_file_name = 'olist_customers_dataset.csv'\n",
        "orders_file_name = 'olist_orders_dataset.csv'\n",
        "geolocation_file_name = 'olist_geolocation_dataset.csv'\n",
        "products_file_name = 'olist_products_dataset.csv'\n",
        "order_items_file_name = 'olist_order_items_dataset.csv'\n",
        "sellers_file_name = 'olist_sellers_dataset.csv'\n",
        "order_payments_file_name = 'olist_order_payments_dataset.csv'\n",
        "product_translation_file_name = 'product_category_name_translation.csv'\n",
        "order_reviews_file_name = 'olist_order_reviews_dataset.csv'"
      ],
      "execution_count": 57,
      "outputs": []
    },
    {
      "cell_type": "code",
      "metadata": {
        "id": "x_NiIy2rtrkB"
      },
      "source": [
        "df_customers = pd.read_csv(customers_file_name,sep=',')\n",
        "df_orders = pd.read_csv(orders_file_name,sep=',')\n",
        "df_geolocation = pd.read_csv(geolocation_file_name,sep=',')\n",
        "df_products = pd.read_csv(products_file_name,sep=',')\n",
        "df_order_items = pd.read_csv(order_items_file_name,sep=',')\n",
        "df_sellers = pd.read_csv(sellers_file_name,sep=',')\n",
        "df_order_payments = pd.read_csv(order_payments_file_name,sep=',')\n",
        "df_order_reviews = pd.read_csv(order_reviews_file_name,sep=',')"
      ],
      "execution_count": 58,
      "outputs": []
    },
    {
      "cell_type": "markdown",
      "metadata": {
        "id": "Kh2DcOcVinil"
      },
      "source": [
        "# **Entendendo a origem dos clientes do e-commerce**"
      ]
    },
    {
      "cell_type": "code",
      "metadata": {
        "id": "d1ZUezG5vMng",
        "outputId": "9ea8487a-76a2-441c-b5a7-a79c5c19521e",
        "colab": {
          "base_uri": "https://localhost:8080/",
          "height": 398
        }
      },
      "source": [
        "customer_states = df_customers.groupby('customer_state')\n",
        "unique_customers_by_state = customer_states.customer_unique_id.nunique().sort_values(ascending=False).to_frame()\n",
        "\n",
        "unique_customers_by_state['customer_state'] = unique_customers_by_state.index\n",
        "unique_customers_by_state['perc_total_customers'] = unique_customers_by_state.customer_unique_id *(100 / df_customers.customer_unique_id.nunique())\n",
        "\n",
        "f, ax = plt.subplots(figsize=(10,6))\n",
        "sns.set_color_codes(\"dark\")\n",
        "\n",
        "splot = sns.barplot(x=\"perc_total_customers\", y=\"customer_state\", data=unique_customers_by_state.head(5), color=\"b\")\n",
        "\n",
        "# Add annotations of values\n",
        "for p in ax.patches:\n",
        "    ax.annotate(\"%.f\" % p.get_width(), xy=(p.get_width(), p.get_y()+p.get_height()/2),\n",
        "            xytext=(5, 0), textcoords='offset points', ha=\"left\", va=\"center\", size = 16)\n",
        "\n",
        "# Add a legend and informative axis label\n",
        "\n",
        "ax.set(xlim=(0, max(unique_customers_by_state['perc_total_customers'])), \n",
        "       xlabel='', ylabel='', xticklabels=[])\n",
        "\n",
        "ax.set_title(\"% dos clientes únicos do e-commerce nos 5 estados \\nmais relevantes\",\n",
        "             size=18,fontweight=\"bold\",loc = 'left')\n",
        "ax.grid(False)\n",
        "sns.despine(offset=10, trim=True, left=True, bottom=True);\n",
        "plt.show()"
      ],
      "execution_count": 59,
      "outputs": [
        {
          "output_type": "display_data",
          "data": {
            "image/png": "[encoded data removed]",
            "text/plain": [
              "<Figure size 720x432 with 1 Axes>"
            ]
          },
          "metadata": {
            "tags": [],
            "needs_background": "light"
          }
        }
      ]
    },
    {
      "cell_type": "markdown",
      "metadata": {
        "id": "gTscssN6i5c0"
      },
      "source": [
        "# **Integração dos dados**\n",
        "* **df_customer_orders:** agrupará informações de clientes, dados gerais das compras e avaliações dos clientes\n",
        "* **df_order_products:** agrupará informações de produtos por compra e informações gerais do produto"
      ]
    },
    {
      "cell_type": "code",
      "metadata": {
        "id": "yvKBXNDuvQWZ"
      },
      "source": [
        "# Selects only the most recent review for each order\n",
        "df_latest_order_reviews = df_order_reviews.groupby('order_id', as_index=False).agg({'review_answer_timestamp' : 'first'})\n",
        "df_order_reviews = pd.merge(left=df_order_reviews[['order_id','review_answer_timestamp','review_score']], \n",
        "                            right= df_latest_order_reviews, on=['order_id','review_answer_timestamp'], how='inner')\n",
        "\n",
        "customer_cols = ['customer_id','customer_unique_id', 'customer_state']\n",
        "order_cols = ['customer_id','order_id','order_purchase_timestamp']\n",
        "review_cols = ['order_id','review_score']\n",
        "\n",
        "df_customer_orders = pd.merge(\n",
        "    pd.merge(df_customers[customer_cols], df_orders[order_cols], how='inner', on=\"customer_id\", validate=\"one_to_one\"),\n",
        "    df_order_reviews[review_cols],\n",
        "    how='inner', on=\"order_id\",validate=\"one_to_one\")\n",
        "\n",
        "df_order_products = pd.merge(df_order_items,df_products,how='inner',on='product_id')"
      ],
      "execution_count": 60,
      "outputs": []
    },
    {
      "cell_type": "code",
      "metadata": {
        "id": "116ZwDnbwYqD",
        "outputId": "245036ef-10ed-4911-c1bf-5f4a99f3c7e5",
        "colab": {
          "base_uri": "https://localhost:8080/",
          "height": 224
        }
      },
      "source": [
        "# Add number of order items and sum of items price per order\n",
        "\n",
        "df_grouped_orders = df_order_products.groupby('order_id', as_index=False).agg(\n",
        "    {'product_id' : ['count','nunique'], 'price' : 'sum'})\n",
        "df_grouped_orders.columns = ['order_id', 'number_of_items','number_of_unique_items','sum_of_item_prices']\n",
        "\n",
        "df_customer_orders = pd.merge(df_customer_orders,df_grouped_orders, how='inner', on='order_id', validate=\"one_to_one\")\n",
        "df_customer_orders.head()"
      ],
      "execution_count": 61,
      "outputs": [
        {
          "output_type": "execute_result",
          "data": {
            "text/html": [
              "<div>\n",
              "<style scoped>\n",
              "    .dataframe tbody tr th:only-of-type {\n",
              "        vertical-align: middle;\n",
              "    }\n",
              "\n",
              "    .dataframe tbody tr th {\n",
              "        vertical-align: top;\n",
              "    }\n",
              "\n",
              "    .dataframe thead th {\n",
              "        text-align: right;\n",
              "    }\n",
              "</style>\n",
              "<table border=\"1\" class=\"dataframe\">\n",
              "  <thead>\n",
              "    <tr style=\"text-align: right;\">\n",
              "      <th></th>\n",
              "      <th>customer_id</th>\n",
              "      <th>customer_unique_id</th>\n",
              "      <th>customer_state</th>\n",
              "      <th>order_id</th>\n",
              "      <th>order_purchase_timestamp</th>\n",
              "      <th>review_score</th>\n",
              "      <th>number_of_items</th>\n",
              "      <th>number_of_unique_items</th>\n",
              "      <th>sum_of_item_prices</th>\n",
              "    </tr>\n",
              "  </thead>\n",
              "  <tbody>\n",
              "    <tr>\n",
              "      <th>0</th>\n",
              "      <td>06b8999e2fba1a1fbc88172c00ba8bc7</td>\n",
              "      <td>861eff4711a542e4b93843c6dd7febb0</td>\n",
              "      <td>SP</td>\n",
              "      <td>00e7ee1b050b8499577073aeb2a297a1</td>\n",
              "      <td>2017-05-16 15:05:35</td>\n",
              "      <td>4</td>\n",
              "      <td>1</td>\n",
              "      <td>1</td>\n",
              "      <td>124.99</td>\n",
              "    </tr>\n",
              "    <tr>\n",
              "      <th>1</th>\n",
              "      <td>18955e83d337fd6b2def6b18a428ac77</td>\n",
              "      <td>290c77bc529b7ac935b93aa66c333dc3</td>\n",
              "      <td>SP</td>\n",
              "      <td>29150127e6685892b6eab3eec79f59c7</td>\n",
              "      <td>2018-01-12 20:48:24</td>\n",
              "      <td>5</td>\n",
              "      <td>1</td>\n",
              "      <td>1</td>\n",
              "      <td>289.00</td>\n",
              "    </tr>\n",
              "    <tr>\n",
              "      <th>2</th>\n",
              "      <td>4e7b3e00288586ebd08712fdd0374a03</td>\n",
              "      <td>060e732b5b29e8181a18229c7b0b2b5e</td>\n",
              "      <td>SP</td>\n",
              "      <td>b2059ed67ce144a36e2aa97d2c9e9ad2</td>\n",
              "      <td>2018-05-19 16:07:45</td>\n",
              "      <td>5</td>\n",
              "      <td>1</td>\n",
              "      <td>1</td>\n",
              "      <td>139.94</td>\n",
              "    </tr>\n",
              "    <tr>\n",
              "      <th>3</th>\n",
              "      <td>b2b6027bc5c5109e529d4dc6358b12c3</td>\n",
              "      <td>259dac757896d24d7702b9acbbff3f3c</td>\n",
              "      <td>SP</td>\n",
              "      <td>951670f92359f4fe4a63112aa7306eba</td>\n",
              "      <td>2018-03-13 16:06:38</td>\n",
              "      <td>5</td>\n",
              "      <td>1</td>\n",
              "      <td>1</td>\n",
              "      <td>149.94</td>\n",
              "    </tr>\n",
              "    <tr>\n",
              "      <th>4</th>\n",
              "      <td>4f2d8ab171c80ec8364f7c12e35b23ad</td>\n",
              "      <td>345ecd01c38d18a9036ed96c73b8d066</td>\n",
              "      <td>SP</td>\n",
              "      <td>6b7d50bd145f6fc7f33cebabd7e49d0f</td>\n",
              "      <td>2018-07-29 09:51:30</td>\n",
              "      <td>5</td>\n",
              "      <td>1</td>\n",
              "      <td>1</td>\n",
              "      <td>230.00</td>\n",
              "    </tr>\n",
              "  </tbody>\n",
              "</table>\n",
              "</div>"
            ],
            "text/plain": [
              "                        customer_id  ... sum_of_item_prices\n",
              "0  06b8999e2fba1a1fbc88172c00ba8bc7  ...             124.99\n",
              "1  18955e83d337fd6b2def6b18a428ac77  ...             289.00\n",
              "2  4e7b3e00288586ebd08712fdd0374a03  ...             139.94\n",
              "3  b2b6027bc5c5109e529d4dc6358b12c3  ...             149.94\n",
              "4  4f2d8ab171c80ec8364f7c12e35b23ad  ...             230.00\n",
              "\n",
              "[5 rows x 9 columns]"
            ]
          },
          "metadata": {
            "tags": []
          },
          "execution_count": 61
        }
      ]
    },
    {
      "cell_type": "code",
      "metadata": {
        "id": "5A0793edB2us"
      },
      "source": [
        "df_customer_orders.order_purchase_timestamp = pd.to_datetime(df_customer_orders.order_purchase_timestamp)\n",
        "\n",
        "df_first_orders = df_customer_orders.groupby('customer_unique_id', as_index = False).agg(\n",
        "                        {'order_purchase_timestamp':'min'})\n",
        "df_first_orders.columns = ['customer_unique_id','first_purchase_timestamp']\n",
        "\n",
        "df_customer_orders = pd.merge(df_customer_orders,df_first_orders,how='inner',on='customer_unique_id')"
      ],
      "execution_count": 62,
      "outputs": []
    },
    {
      "cell_type": "code",
      "metadata": {
        "id": "4xrsv08iCF8T"
      },
      "source": [
        "df_customer_orders['days_since_first_purchase'] = ((df_customer_orders['order_purchase_timestamp'].dt.date\n",
        "                                                   - df_customer_orders['first_purchase_timestamp'].dt.date)/np.timedelta64(1,'D')).astype(int)"
      ],
      "execution_count": 63,
      "outputs": []
    },
    {
      "cell_type": "code",
      "metadata": {
        "id": "8KG8xoGajHwH"
      },
      "source": [
        "# Orders dataset in order to find last order previous than current order\n",
        "df_customer_orders = df_customer_orders.sort_values(by=['customer_unique_id','order_purchase_timestamp'])\n",
        "df_customer_orders.reset_index(drop=True, inplace=True)"
      ],
      "execution_count": 64,
      "outputs": []
    },
    {
      "cell_type": "code",
      "metadata": {
        "id": "9w4uy8JXjIR4"
      },
      "source": [
        "# Searches dataset for last purchase date per customer\n",
        "df_customer_orders.loc[df_customer_orders['days_since_first_purchase'] == 0,'last_purchase_timestamp'] = pd.to_datetime(np.nan)\n",
        "\n",
        "for idx in df_customer_orders[df_customer_orders['days_since_first_purchase'] > 0].index:\n",
        "    df_customer_orders.loc[idx, 'last_purchase_timestamp'] = df_customer_orders.loc[idx-1,'order_purchase_timestamp']"
      ],
      "execution_count": 65,
      "outputs": []
    },
    {
      "cell_type": "code",
      "metadata": {
        "id": "mYsue48qjIfZ"
      },
      "source": [
        "# Calculates number of days since last purchase per customer\n",
        "df_customer_orders.loc[df_customer_orders['days_since_first_purchase'] == 0,'days_since_last_purchase'] = 0\n",
        "df_customer_orders.loc[df_customer_orders['days_since_first_purchase'] > 0,'days_since_last_purchase'] = ((df_customer_orders.loc[df_customer_orders['days_since_first_purchase'] > 0,'order_purchase_timestamp'].dt.date\n",
        "                                                   - df_customer_orders.loc[df_customer_orders['days_since_first_purchase'] > 0,'last_purchase_timestamp'].dt.date)/np.timedelta64(1,'D')).astype(int)"
      ],
      "execution_count": 66,
      "outputs": []
    },
    {
      "cell_type": "code",
      "metadata": {
        "id": "XkVJ8UYTp_Ws",
        "outputId": "b99d0223-8079-44f1-b39d-05b84dc6d3c6",
        "colab": {
          "base_uri": "https://localhost:8080/",
          "height": 439
        }
      },
      "source": [
        "df_customer_orders[df_customer_orders['days_since_first_purchase'] > 0]"
      ],
      "execution_count": 67,
      "outputs": [
        {
          "output_type": "execute_result",
          "data": {
            "text/html": [
              "<div>\n",
              "<style scoped>\n",
              "    .dataframe tbody tr th:only-of-type {\n",
              "        vertical-align: middle;\n",
              "    }\n",
              "\n",
              "    .dataframe tbody tr th {\n",
              "        vertical-align: top;\n",
              "    }\n",
              "\n",
              "    .dataframe thead th {\n",
              "        text-align: right;\n",
              "    }\n",
              "</style>\n",
              "<table border=\"1\" class=\"dataframe\">\n",
              "  <thead>\n",
              "    <tr style=\"text-align: right;\">\n",
              "      <th></th>\n",
              "      <th>customer_id</th>\n",
              "      <th>customer_unique_id</th>\n",
              "      <th>customer_state</th>\n",
              "      <th>order_id</th>\n",
              "      <th>order_purchase_timestamp</th>\n",
              "      <th>review_score</th>\n",
              "      <th>number_of_items</th>\n",
              "      <th>number_of_unique_items</th>\n",
              "      <th>sum_of_item_prices</th>\n",
              "      <th>first_purchase_timestamp</th>\n",
              "      <th>days_since_first_purchase</th>\n",
              "      <th>last_purchase_timestamp</th>\n",
              "      <th>days_since_last_purchase</th>\n",
              "    </tr>\n",
              "  </thead>\n",
              "  <tbody>\n",
              "    <tr>\n",
              "      <th>107</th>\n",
              "      <td>f6efe5d5c7b85e12355f9d5c3db46da2</td>\n",
              "      <td>004288347e5e88a27ded2bb23747066c</td>\n",
              "      <td>RJ</td>\n",
              "      <td>08204559bebd39e09ee52dcb56d8faa2</td>\n",
              "      <td>2018-01-14 07:36:54</td>\n",
              "      <td>5</td>\n",
              "      <td>1</td>\n",
              "      <td>1</td>\n",
              "      <td>87.90</td>\n",
              "      <td>2017-07-27 14:13:03</td>\n",
              "      <td>171</td>\n",
              "      <td>2017-07-27 14:13:03</td>\n",
              "      <td>171.0</td>\n",
              "    </tr>\n",
              "    <tr>\n",
              "      <th>125</th>\n",
              "      <td>d95f60d70d9ea9a7fe37c53c931940bb</td>\n",
              "      <td>004b45ec5c64187465168251cd1c9c2f</td>\n",
              "      <td>AL</td>\n",
              "      <td>9392c5e72885ad5aba87e6223ca9838d</td>\n",
              "      <td>2018-05-26 19:42:48</td>\n",
              "      <td>5</td>\n",
              "      <td>1</td>\n",
              "      <td>1</td>\n",
              "      <td>27.00</td>\n",
              "      <td>2017-09-01 12:11:23</td>\n",
              "      <td>267</td>\n",
              "      <td>2017-09-01 12:11:23</td>\n",
              "      <td>267.0</td>\n",
              "    </tr>\n",
              "    <tr>\n",
              "      <th>146</th>\n",
              "      <td>8ac44e9c15d396b8c3c7cbab0fff4536</td>\n",
              "      <td>0058f300f57d7b93c477a131a59b36c3</td>\n",
              "      <td>BA</td>\n",
              "      <td>81a93b2fa39e104b865b2bc471c16008</td>\n",
              "      <td>2018-03-22 18:09:41</td>\n",
              "      <td>5</td>\n",
              "      <td>1</td>\n",
              "      <td>1</td>\n",
              "      <td>72.58</td>\n",
              "      <td>2018-02-19 17:11:34</td>\n",
              "      <td>31</td>\n",
              "      <td>2018-02-19 17:11:34</td>\n",
              "      <td>31.0</td>\n",
              "    </tr>\n",
              "    <tr>\n",
              "      <th>250</th>\n",
              "      <td>cbb68c721ba9ddb30d8a490cc1897fa1</td>\n",
              "      <td>00a39521eb40f7012db50455bf083460</td>\n",
              "      <td>DF</td>\n",
              "      <td>cea3e6c11eb60acb9d8d4d51694832f8</td>\n",
              "      <td>2018-06-03 10:12:57</td>\n",
              "      <td>4</td>\n",
              "      <td>1</td>\n",
              "      <td>1</td>\n",
              "      <td>11.55</td>\n",
              "      <td>2018-05-23 20:14:21</td>\n",
              "      <td>11</td>\n",
              "      <td>2018-05-23 20:14:21</td>\n",
              "      <td>11.0</td>\n",
              "    </tr>\n",
              "    <tr>\n",
              "      <th>416</th>\n",
              "      <td>71c7265705afd84d030d6adc3122d8dd</td>\n",
              "      <td>011575986092c30523ecb71ff10cb473</td>\n",
              "      <td>MG</td>\n",
              "      <td>ed0a6265b5b0a292cd537214f401f1fc</td>\n",
              "      <td>2018-04-18 21:58:08</td>\n",
              "      <td>4</td>\n",
              "      <td>1</td>\n",
              "      <td>1</td>\n",
              "      <td>63.90</td>\n",
              "      <td>2018-02-17 15:54:49</td>\n",
              "      <td>60</td>\n",
              "      <td>2018-02-17 15:54:49</td>\n",
              "      <td>60.0</td>\n",
              "    </tr>\n",
              "    <tr>\n",
              "      <th>...</th>\n",
              "      <td>...</td>\n",
              "      <td>...</td>\n",
              "      <td>...</td>\n",
              "      <td>...</td>\n",
              "      <td>...</td>\n",
              "      <td>...</td>\n",
              "      <td>...</td>\n",
              "      <td>...</td>\n",
              "      <td>...</td>\n",
              "      <td>...</td>\n",
              "      <td>...</td>\n",
              "      <td>...</td>\n",
              "      <td>...</td>\n",
              "    </tr>\n",
              "    <tr>\n",
              "      <th>98276</th>\n",
              "      <td>a1902b753d5eeb9831f1d3f89a13fba8</td>\n",
              "      <td>ff03923ad1eb9e32304deb7f9b2a45c9</td>\n",
              "      <td>SP</td>\n",
              "      <td>df52ca7830380e7d8f7292e99434eea7</td>\n",
              "      <td>2018-05-26 11:51:22</td>\n",
              "      <td>3</td>\n",
              "      <td>1</td>\n",
              "      <td>1</td>\n",
              "      <td>110.32</td>\n",
              "      <td>2018-04-23 21:49:49</td>\n",
              "      <td>33</td>\n",
              "      <td>2018-04-23 21:49:49</td>\n",
              "      <td>33.0</td>\n",
              "    </tr>\n",
              "    <tr>\n",
              "      <th>98324</th>\n",
              "      <td>4b7decb9b58e2569548b8b4c8e20e8d7</td>\n",
              "      <td>ff22e30958c13ffe219db7d711e8f564</td>\n",
              "      <td>SP</td>\n",
              "      <td>54282e97f61c23b78330c15b154c867d</td>\n",
              "      <td>2018-09-03 09:06:57</td>\n",
              "      <td>1</td>\n",
              "      <td>1</td>\n",
              "      <td>1</td>\n",
              "      <td>145.00</td>\n",
              "      <td>2018-08-24 17:02:19</td>\n",
              "      <td>10</td>\n",
              "      <td>2018-08-24 17:02:19</td>\n",
              "      <td>10.0</td>\n",
              "    </tr>\n",
              "    <tr>\n",
              "      <th>98484</th>\n",
              "      <td>e53e1eedc9ebf9fa7a3318c60ece1d25</td>\n",
              "      <td>ff8892f7c26aa0446da53d01b18df463</td>\n",
              "      <td>BA</td>\n",
              "      <td>1c308eca3f339414a92e518e2a2e5ee9</td>\n",
              "      <td>2017-11-26 23:25:43</td>\n",
              "      <td>2</td>\n",
              "      <td>1</td>\n",
              "      <td>1</td>\n",
              "      <td>49.95</td>\n",
              "      <td>2017-05-24 16:09:14</td>\n",
              "      <td>186</td>\n",
              "      <td>2017-05-24 16:09:14</td>\n",
              "      <td>186.0</td>\n",
              "    </tr>\n",
              "    <tr>\n",
              "      <th>98503</th>\n",
              "      <td>d064be88116eb8b958727aec4cf56a59</td>\n",
              "      <td>ff922bdd6bafcdf99cb90d7f39cea5b3</td>\n",
              "      <td>SP</td>\n",
              "      <td>5f79e2da24a52e76bc22897df03a7901</td>\n",
              "      <td>2017-08-23 13:15:29</td>\n",
              "      <td>3</td>\n",
              "      <td>1</td>\n",
              "      <td>1</td>\n",
              "      <td>40.00</td>\n",
              "      <td>2017-02-22 12:26:42</td>\n",
              "      <td>182</td>\n",
              "      <td>2017-02-22 12:26:42</td>\n",
              "      <td>182.0</td>\n",
              "    </tr>\n",
              "    <tr>\n",
              "      <th>98504</th>\n",
              "      <td>bec0bf00ac5bee64ce8ef5283051a70c</td>\n",
              "      <td>ff922bdd6bafcdf99cb90d7f39cea5b3</td>\n",
              "      <td>SP</td>\n",
              "      <td>6be1646fccbb69d34b22da3b1807d51d</td>\n",
              "      <td>2017-09-14 14:24:04</td>\n",
              "      <td>5</td>\n",
              "      <td>1</td>\n",
              "      <td>1</td>\n",
              "      <td>29.89</td>\n",
              "      <td>2017-02-22 12:26:42</td>\n",
              "      <td>204</td>\n",
              "      <td>2017-08-23 13:15:29</td>\n",
              "      <td>22.0</td>\n",
              "    </tr>\n",
              "  </tbody>\n",
              "</table>\n",
              "<p>2339 rows × 13 columns</p>\n",
              "</div>"
            ],
            "text/plain": [
              "                            customer_id  ... days_since_last_purchase\n",
              "107    f6efe5d5c7b85e12355f9d5c3db46da2  ...                    171.0\n",
              "125    d95f60d70d9ea9a7fe37c53c931940bb  ...                    267.0\n",
              "146    8ac44e9c15d396b8c3c7cbab0fff4536  ...                     31.0\n",
              "250    cbb68c721ba9ddb30d8a490cc1897fa1  ...                     11.0\n",
              "416    71c7265705afd84d030d6adc3122d8dd  ...                     60.0\n",
              "...                                 ...  ...                      ...\n",
              "98276  a1902b753d5eeb9831f1d3f89a13fba8  ...                     33.0\n",
              "98324  4b7decb9b58e2569548b8b4c8e20e8d7  ...                     10.0\n",
              "98484  e53e1eedc9ebf9fa7a3318c60ece1d25  ...                    186.0\n",
              "98503  d064be88116eb8b958727aec4cf56a59  ...                    182.0\n",
              "98504  bec0bf00ac5bee64ce8ef5283051a70c  ...                     22.0\n",
              "\n",
              "[2339 rows x 13 columns]"
            ]
          },
          "metadata": {
            "tags": []
          },
          "execution_count": 67
        }
      ]
    },
    {
      "cell_type": "markdown",
      "metadata": {
        "id": "S4G1GDRtjP2M"
      },
      "source": [
        "# **Descrição de dados**"
      ]
    },
    {
      "cell_type": "code",
      "metadata": {
        "id": "9KROaYuHjIER",
        "outputId": "8690f50d-965d-4935-fbb8-56574879420b",
        "colab": {
          "base_uri": "https://localhost:8080/",
          "height": 421
        }
      },
      "source": [
        "# Describing\n",
        "df_desc = df_customer_orders.describe().transpose()\n",
        "df_desc['interval'] = df_desc['max'] - df_desc['min']\n",
        "df_desc['IQR'] = df_desc['75%'] -  df_desc['25%']\n",
        "df_desc['Lim_inf_outlier'] = df_desc['25%'] - 1.5 * df_desc['IQR']\n",
        "df_desc['Lim_sup_outlier'] = df_desc['75%'] + 1.5 * df_desc['IQR']\n",
        "df_desc.transpose()"
      ],
      "execution_count": 68,
      "outputs": [
        {
          "output_type": "execute_result",
          "data": {
            "text/html": [
              "<div>\n",
              "<style scoped>\n",
              "    .dataframe tbody tr th:only-of-type {\n",
              "        vertical-align: middle;\n",
              "    }\n",
              "\n",
              "    .dataframe tbody tr th {\n",
              "        vertical-align: top;\n",
              "    }\n",
              "\n",
              "    .dataframe thead th {\n",
              "        text-align: right;\n",
              "    }\n",
              "</style>\n",
              "<table border=\"1\" class=\"dataframe\">\n",
              "  <thead>\n",
              "    <tr style=\"text-align: right;\">\n",
              "      <th></th>\n",
              "      <th>review_score</th>\n",
              "      <th>number_of_items</th>\n",
              "      <th>number_of_unique_items</th>\n",
              "      <th>sum_of_item_prices</th>\n",
              "      <th>days_since_first_purchase</th>\n",
              "      <th>days_since_last_purchase</th>\n",
              "    </tr>\n",
              "  </thead>\n",
              "  <tbody>\n",
              "    <tr>\n",
              "      <th>count</th>\n",
              "      <td>98666.000000</td>\n",
              "      <td>98666.000000</td>\n",
              "      <td>98666.000000</td>\n",
              "      <td>98666.000000</td>\n",
              "      <td>98666.000000</td>\n",
              "      <td>98666.000000</td>\n",
              "    </tr>\n",
              "    <tr>\n",
              "      <th>mean</th>\n",
              "      <td>4.089798</td>\n",
              "      <td>1.141731</td>\n",
              "      <td>1.038098</td>\n",
              "      <td>137.754076</td>\n",
              "      <td>2.894513</td>\n",
              "      <td>2.595109</td>\n",
              "    </tr>\n",
              "    <tr>\n",
              "      <th>std</th>\n",
              "      <td>1.343624</td>\n",
              "      <td>0.538452</td>\n",
              "      <td>0.226456</td>\n",
              "      <td>210.645145</td>\n",
              "      <td>26.095843</td>\n",
              "      <td>24.061107</td>\n",
              "    </tr>\n",
              "    <tr>\n",
              "      <th>min</th>\n",
              "      <td>1.000000</td>\n",
              "      <td>1.000000</td>\n",
              "      <td>1.000000</td>\n",
              "      <td>0.850000</td>\n",
              "      <td>0.000000</td>\n",
              "      <td>0.000000</td>\n",
              "    </tr>\n",
              "    <tr>\n",
              "      <th>25%</th>\n",
              "      <td>4.000000</td>\n",
              "      <td>1.000000</td>\n",
              "      <td>1.000000</td>\n",
              "      <td>45.900000</td>\n",
              "      <td>0.000000</td>\n",
              "      <td>0.000000</td>\n",
              "    </tr>\n",
              "    <tr>\n",
              "      <th>50%</th>\n",
              "      <td>5.000000</td>\n",
              "      <td>1.000000</td>\n",
              "      <td>1.000000</td>\n",
              "      <td>86.900000</td>\n",
              "      <td>0.000000</td>\n",
              "      <td>0.000000</td>\n",
              "    </tr>\n",
              "    <tr>\n",
              "      <th>75%</th>\n",
              "      <td>5.000000</td>\n",
              "      <td>1.000000</td>\n",
              "      <td>1.000000</td>\n",
              "      <td>149.900000</td>\n",
              "      <td>0.000000</td>\n",
              "      <td>0.000000</td>\n",
              "    </tr>\n",
              "    <tr>\n",
              "      <th>max</th>\n",
              "      <td>5.000000</td>\n",
              "      <td>21.000000</td>\n",
              "      <td>8.000000</td>\n",
              "      <td>13440.000000</td>\n",
              "      <td>633.000000</td>\n",
              "      <td>609.000000</td>\n",
              "    </tr>\n",
              "    <tr>\n",
              "      <th>interval</th>\n",
              "      <td>4.000000</td>\n",
              "      <td>20.000000</td>\n",
              "      <td>7.000000</td>\n",
              "      <td>13439.150000</td>\n",
              "      <td>633.000000</td>\n",
              "      <td>609.000000</td>\n",
              "    </tr>\n",
              "    <tr>\n",
              "      <th>IQR</th>\n",
              "      <td>1.000000</td>\n",
              "      <td>0.000000</td>\n",
              "      <td>0.000000</td>\n",
              "      <td>104.000000</td>\n",
              "      <td>0.000000</td>\n",
              "      <td>0.000000</td>\n",
              "    </tr>\n",
              "    <tr>\n",
              "      <th>Lim_inf_outlier</th>\n",
              "      <td>2.500000</td>\n",
              "      <td>1.000000</td>\n",
              "      <td>1.000000</td>\n",
              "      <td>-110.100000</td>\n",
              "      <td>0.000000</td>\n",
              "      <td>0.000000</td>\n",
              "    </tr>\n",
              "    <tr>\n",
              "      <th>Lim_sup_outlier</th>\n",
              "      <td>6.500000</td>\n",
              "      <td>1.000000</td>\n",
              "      <td>1.000000</td>\n",
              "      <td>305.900000</td>\n",
              "      <td>0.000000</td>\n",
              "      <td>0.000000</td>\n",
              "    </tr>\n",
              "  </tbody>\n",
              "</table>\n",
              "</div>"
            ],
            "text/plain": [
              "                 review_score  ...  days_since_last_purchase\n",
              "count            98666.000000  ...              98666.000000\n",
              "mean                 4.089798  ...                  2.595109\n",
              "std                  1.343624  ...                 24.061107\n",
              "min                  1.000000  ...                  0.000000\n",
              "25%                  4.000000  ...                  0.000000\n",
              "50%                  5.000000  ...                  0.000000\n",
              "75%                  5.000000  ...                  0.000000\n",
              "max                  5.000000  ...                609.000000\n",
              "interval             4.000000  ...                609.000000\n",
              "IQR                  1.000000  ...                  0.000000\n",
              "Lim_inf_outlier      2.500000  ...                  0.000000\n",
              "Lim_sup_outlier      6.500000  ...                  0.000000\n",
              "\n",
              "[12 rows x 6 columns]"
            ]
          },
          "metadata": {
            "tags": []
          },
          "execution_count": 68
        }
      ]
    },
    {
      "cell_type": "code",
      "metadata": {
        "id": "UdxdIPgwjHfl",
        "outputId": "0fc41219-75b1-41f8-926b-395a42ad6b4c",
        "colab": {
          "base_uri": "https://localhost:8080/",
          "height": 297
        }
      },
      "source": [
        "sns.histplot(data=df_customer_orders, x='number_of_items', stat='count',binwidth=1,binrange=(1,8))"
      ],
      "execution_count": 69,
      "outputs": [
        {
          "output_type": "execute_result",
          "data": {
            "text/plain": [
              "<matplotlib.axes._subplots.AxesSubplot at 0x7fb601d632e8>"
            ]
          },
          "metadata": {
            "tags": []
          },
          "execution_count": 69
        },
        {
          "output_type": "display_data",
          "data": {
            "image/png": "[encoded data removed]",
            "text/plain": [
              "<Figure size 432x288 with 1 Axes>"
            ]
          },
          "metadata": {
            "tags": [],
            "needs_background": "light"
          }
        }
      ]
    },
    {
      "cell_type": "code",
      "metadata": {
        "id": "DAR9-7D7kXFA",
        "outputId": "e51fe1e7-bbd3-40b3-b40d-7d2da6fdf4a2",
        "colab": {
          "base_uri": "https://localhost:8080/",
          "height": 301
        }
      },
      "source": [
        "sns.histplot(data=df_customer_orders, x='number_of_unique_items', stat='count',binwidth=1,binrange=(1,8))"
      ],
      "execution_count": 70,
      "outputs": [
        {
          "output_type": "execute_result",
          "data": {
            "text/plain": [
              "<matplotlib.axes._subplots.AxesSubplot at 0x7fb5e74f5278>"
            ]
          },
          "metadata": {
            "tags": []
          },
          "execution_count": 70
        },
        {
          "output_type": "display_data",
          "data": {
            "image/png": "[encoded data removed]",
            "text/plain": [
              "<Figure size 432x288 with 1 Axes>"
            ]
          },
          "metadata": {
            "tags": [],
            "needs_background": "light"
          }
        }
      ]
    },
    {
      "cell_type": "code",
      "metadata": {
        "id": "TjEgAJ_EmkHY",
        "outputId": "c80ec545-9fb9-4c7f-b198-c2cfb4a3690f",
        "colab": {
          "base_uri": "https://localhost:8080/",
          "height": 299
        }
      },
      "source": [
        "sns.histplot(data=df_customer_orders, x='sum_of_item_prices',binwidth=100.0,binrange=(0.0,2000.0))"
      ],
      "execution_count": 71,
      "outputs": [
        {
          "output_type": "execute_result",
          "data": {
            "text/plain": [
              "<matplotlib.axes._subplots.AxesSubplot at 0x7fb60085fda0>"
            ]
          },
          "metadata": {
            "tags": []
          },
          "execution_count": 71
        },
        {
          "output_type": "display_data",
          "data": {
            "image/png": "[encoded data removed]",
            "text/plain": [
              "<Figure size 432x288 with 1 Axes>"
            ]
          },
          "metadata": {
            "tags": [],
            "needs_background": "light"
          }
        }
      ]
    },
    {
      "cell_type": "code",
      "metadata": {
        "id": "gdrMYDOMmrgA",
        "outputId": "5b62b46d-ecc9-4d2b-c7b5-18c3e86e68ea",
        "colab": {
          "base_uri": "https://localhost:8080/",
          "height": 298
        }
      },
      "source": [
        "# Sem clientes que só fizeram uma compra\n",
        "sns.histplot(data=df_customer_orders, x='days_since_first_purchase',binrange=(1,700))"
      ],
      "execution_count": 79,
      "outputs": [
        {
          "output_type": "execute_result",
          "data": {
            "text/plain": [
              "<matplotlib.axes._subplots.AxesSubplot at 0x7fb603bea898>"
            ]
          },
          "metadata": {
            "tags": []
          },
          "execution_count": 79
        },
        {
          "output_type": "display_data",
          "data": {
            "image/png": "[encoded data removed]",
            "text/plain": [
              "<Figure size 432x288 with 1 Axes>"
            ]
          },
          "metadata": {
            "tags": [],
            "needs_background": "light"
          }
        }
      ]
    },
    {
      "cell_type": "code",
      "metadata": {
        "id": "1BHjHepnsmuK",
        "outputId": "eea987e1-231f-4c34-cad2-22622c1cd32d",
        "colab": {
          "base_uri": "https://localhost:8080/",
          "height": 297
        }
      },
      "source": [
        "# Com clientes que só fizeram uma compra\n",
        "sns.histplot(data=df_customer_orders, x='days_since_first_purchase',binrange=(0,700))"
      ],
      "execution_count": 80,
      "outputs": [
        {
          "output_type": "execute_result",
          "data": {
            "text/plain": [
              "<matplotlib.axes._subplots.AxesSubplot at 0x7fb604663cf8>"
            ]
          },
          "metadata": {
            "tags": []
          },
          "execution_count": 80
        },
        {
          "output_type": "display_data",
          "data": {
            "image/png": "[encoded data removed]",
            "text/plain": [
              "<Figure size 432x288 with 1 Axes>"
            ]
          },
          "metadata": {
            "tags": [],
            "needs_background": "light"
          }
        }
      ]
    },
    {
      "cell_type": "code",
      "metadata": {
        "id": "XUu3-DMxpnf6",
        "outputId": "490531c5-b2fd-4d16-a402-cdbe4122cf3c",
        "colab": {
          "base_uri": "https://localhost:8080/",
          "height": 297
        }
      },
      "source": [
        "# Sem clientes que só fizeram uma compra\n",
        "sns.histplot(data=df_customer_orders, x='days_since_last_purchase',binrange=(1,700))"
      ],
      "execution_count": 81,
      "outputs": [
        {
          "output_type": "execute_result",
          "data": {
            "text/plain": [
              "<matplotlib.axes._subplots.AxesSubplot at 0x7fb6046452e8>"
            ]
          },
          "metadata": {
            "tags": []
          },
          "execution_count": 81
        },
        {
          "output_type": "display_data",
          "data": {
            "image/png": "[encoded data removed]",
            "text/plain": [
              "<Figure size 432x288 with 1 Axes>"
            ]
          },
          "metadata": {
            "tags": [],
            "needs_background": "light"
          }
        }
      ]
    },
    {
      "cell_type": "code",
      "metadata": {
        "id": "I10jauc3rmTv",
        "outputId": "c5ca2cb2-8e39-4758-b7b2-b4f570e13cbe",
        "colab": {
          "base_uri": "https://localhost:8080/",
          "height": 297
        }
      },
      "source": [
        "# Com clientes que só fizeram uma compra\n",
        "sns.histplot(data=df_customer_orders, x='days_since_first_purchase',binrange=(0,700))"
      ],
      "execution_count": 82,
      "outputs": [
        {
          "output_type": "execute_result",
          "data": {
            "text/plain": [
              "<matplotlib.axes._subplots.AxesSubplot at 0x7fb6045ceeb8>"
            ]
          },
          "metadata": {
            "tags": []
          },
          "execution_count": 82
        },
        {
          "output_type": "display_data",
          "data": {
            "image/png": "[encoded data removed]",
            "text/plain": [
              "<Figure size 432x288 with 1 Axes>"
            ]
          },
          "metadata": {
            "tags": [],
            "needs_background": "light"
          }
        }
      ]
    },
    {
      "cell_type": "markdown",
      "metadata": {
        "id": "ChiI7Acgtl-l"
      },
      "source": [
        "# **Visualização de Correlações**"
      ]
    },
    {
      "cell_type": "code",
      "metadata": {
        "id": "ixejsvuisu4T",
        "outputId": "efaebb18-b52a-44d8-da2d-5a44df3e20d2",
        "colab": {
          "base_uri": "https://localhost:8080/",
          "height": 300
        }
      },
      "source": [
        "sns.scatterplot(data=df_customer_orders, x='days_since_last_purchase', y='sum_of_item_prices')"
      ],
      "execution_count": 83,
      "outputs": [
        {
          "output_type": "execute_result",
          "data": {
            "text/plain": [
              "<matplotlib.axes._subplots.AxesSubplot at 0x7fb5e7bc0128>"
            ]
          },
          "metadata": {
            "tags": []
          },
          "execution_count": 83
        },
        {
          "output_type": "display_data",
          "data": {
            "image/png": "[encoded data removed]",
            "text/plain": [
              "<Figure size 432x288 with 1 Axes>"
            ]
          },
          "metadata": {
            "tags": [],
            "needs_background": "light"
          }
        }
      ]
    },
    {
      "cell_type": "code",
      "metadata": {
        "id": "NGK4az2Ht-U2",
        "outputId": "51833e7b-63f9-48fa-fab4-be2c44408e00",
        "colab": {
          "base_uri": "https://localhost:8080/",
          "height": 300
        }
      },
      "source": [
        "sns.scatterplot(data=df_customer_orders, x='days_since_first_purchase', y='sum_of_item_prices')"
      ],
      "execution_count": 84,
      "outputs": [
        {
          "output_type": "execute_result",
          "data": {
            "text/plain": [
              "<matplotlib.axes._subplots.AxesSubplot at 0x7fb60112e1d0>"
            ]
          },
          "metadata": {
            "tags": []
          },
          "execution_count": 84
        },
        {
          "output_type": "display_data",
          "data": {
            "image/png": "[encoded data removed]",
            "text/plain": [
              "<Figure size 432x288 with 1 Axes>"
            ]
          },
          "metadata": {
            "tags": [],
            "needs_background": "light"
          }
        }
      ]
    },
    {
      "cell_type": "code",
      "metadata": {
        "id": "znt6_88-uRDi"
      },
      "source": [
        ""
      ],
      "execution_count": null,
      "outputs": []
    }
  ]
}